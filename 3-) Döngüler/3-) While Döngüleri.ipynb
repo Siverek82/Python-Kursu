{
 "cells": [
  {
   "cell_type": "markdown",
   "id": "87a14a78",
   "metadata": {},
   "source": [
    "# While Döngüleri\n",
    "\n",
    "Bu bölümde *while* döngülerinin yapısını ve nasıl kullanılacağını öğrenmeye çalışacağız. \n",
    "\n",
    "while döngüleri belli bir koşul sağlandığı sürece bloğundaki işlemleri gerçekleştirmeye devam eder. *while* döngülerinin sona ermesi için koşul durumunun bir süre sonra **False** olması gereklidir.Yapısı şu şekildedir;\n",
    "\n",
    "                                while (koşul):\n",
    "                                    İşlem1\n",
    "                                    İşlem2\n",
    "                                    İşlem3\n",
    "                                      //\n",
    "                                      //\n",
    "while döngülerini daha iyi anlamak için örneklerimize bakalım."
   ]
  },
  {
   "cell_type": "code",
   "execution_count": 8,
   "id": "a1dc2198",
   "metadata": {},
   "outputs": [
    {
     "name": "stdout",
     "output_type": "stream",
     "text": [
      "2004 senesinde yaşın  1\n",
      "2005 senesinde yaşın  2\n",
      "2006 senesinde yaşın  3\n",
      "2007 senesinde yaşın  4\n",
      "2008 senesinde yaşın  5\n",
      "2009 senesinde yaşın  6\n",
      "2010 senesinde yaşın  7\n",
      "2011 senesinde yaşın  8\n",
      "2012 senesinde yaşın  9\n",
      "2013 senesinde yaşın  10\n",
      "2014 senesinde yaşın  11\n",
      "2015 senesinde yaşın  12\n",
      "2016 senesinde yaşın  13\n",
      "2017 senesinde yaşın  14\n",
      "2018 senesinde yaşın  15\n",
      "2019 senesinde yaşın  16\n",
      "2020 senesinde yaşın  17\n",
      "2021 senesinde yaşın  18\n"
     ]
    }
   ],
   "source": [
    "i = 2003\n",
    "while(i < 2021):\n",
    "    print(i+1,\"senesinde yaşın \",i-2002)\n",
    "    i += 1 # koşulun bir süre sonra False olması için gerekli\n"
   ]
  },
  {
   "cell_type": "code",
   "execution_count": 9,
   "id": "fcf472fc",
   "metadata": {},
   "outputs": [
    {
     "name": "stdout",
     "output_type": "stream",
     "text": [
      "Python Öğreniyorum\n",
      "Python Öğreniyorum\n",
      "Python Öğreniyorum\n",
      "Python Öğreniyorum\n",
      "Python Öğreniyorum\n",
      "Python Öğreniyorum\n",
      "Python Öğreniyorum\n",
      "Python Öğreniyorum\n",
      "Python Öğreniyorum\n",
      "Python Öğreniyorum\n",
      "Python Öğreniyorum\n",
      "Python Öğreniyorum\n",
      "Python Öğreniyorum\n",
      "Python Öğreniyorum\n",
      "Python Öğreniyorum\n",
      "Python Öğreniyorum\n",
      "Python Öğreniyorum\n",
      "Python Öğreniyorum\n",
      "Python Öğreniyorum\n",
      "Python Öğreniyorum\n",
      "Python Öğreniyorum\n",
      "Python Öğreniyorum\n",
      "Python Öğreniyorum\n",
      "Python Öğreniyorum\n",
      "Python Öğreniyorum\n",
      "Python Öğreniyorum\n",
      "Python Öğreniyorum\n",
      "Python Öğreniyorum\n",
      "Python Öğreniyorum\n",
      "Python Öğreniyorum\n",
      "Python Öğreniyorum\n",
      "Python Öğreniyorum\n",
      "Python Öğreniyorum\n",
      "Python Öğreniyorum\n",
      "Python Öğreniyorum\n",
      "Python Öğreniyorum\n",
      "Python Öğreniyorum\n",
      "Python Öğreniyorum\n",
      "Python Öğreniyorum\n",
      "Python Öğreniyorum\n"
     ]
    }
   ],
   "source": [
    "# Ekrana 40 defa \"Python Öğreniyorum\" yazdıralım.\n",
    "i = 0\n",
    "\n",
    "while (i < 40):\n",
    "    print(\"Python Öğreniyorum\")\n",
    "    i +=1"
   ]
  },
  {
   "cell_type": "code",
   "execution_count": 10,
   "id": "79538c2b",
   "metadata": {},
   "outputs": [
    {
     "name": "stdout",
     "output_type": "stream",
     "text": [
      "Indeks: 0 Eleman: 1\n",
      "Indeks: 1 Eleman: 2\n",
      "Indeks: 2 Eleman: 3\n",
      "Indeks: 3 Eleman: 4\n",
      "Indeks: 4 Eleman: 5\n"
     ]
    }
   ],
   "source": [
    "# Liste üzerinde indeks ile gezinme\n",
    "liste = [1,2,3,4,5]\n",
    "\n",
    "a = 0 \n",
    "\n",
    "while (a < len(liste)):\n",
    "    print(\"Indeks:\",a,\"Eleman:\",liste[a])\n",
    "    a +=1"
   ]
  },
  {
   "cell_type": "markdown",
   "id": "543681ff",
   "metadata": {},
   "source": [
    "### Sonsuz Döngü Olayları\n",
    "\n",
    "while döngüsü kullanırken biraz dikkatli olmamızda fayda var. Çünkü, while döngü koşulunun bir süre sonra **False** olması gerekecek ki döngümüz sonlanabilsin. Ancak eğer biz **while** döngülerinde bu durumu unutursak , döngümüz sonsuza kadar çalışacaktır. Biz buna **sonsuz döngü** olayı diyoruz. Örneğimize bakalım"
   ]
  },
  {
   "cell_type": "code",
   "execution_count": null,
   "id": "86d59e4a",
   "metadata": {},
   "outputs": [],
   "source": [
    "# Bu kodu çaıştırmayalım. Jupyter sıkıntı çıkarabilir :)\n",
    "i = 0 \n",
    "while (i < 10):\n",
    "    print(i)\n",
    "    # i değişkenini artırma işlemi yapmadığımız için i değişkeninin değeri sürekli 0 kalıyor \n",
    "    # ve döngü koşulu sürekli True kalıyor.\n",
    "    \n"
   ]
  },
  {
   "cell_type": "markdown",
   "id": "872a40d4",
   "metadata": {},
   "source": [
    "Bir sonraki bölümde döngülerde kullanılabilen range() fonksiyonu öğreneceğiz."
   ]
  },
  {
   "cell_type": "code",
   "execution_count": null,
   "id": "cbb6149c",
   "metadata": {},
   "outputs": [],
   "source": []
  }
 ],
 "metadata": {
  "kernelspec": {
   "display_name": "Python 3 (ipykernel)",
   "language": "python",
   "name": "python3"
  },
  "language_info": {
   "codemirror_mode": {
    "name": "ipython",
    "version": 3
   },
   "file_extension": ".py",
   "mimetype": "text/x-python",
   "name": "python",
   "nbconvert_exporter": "python",
   "pygments_lexer": "ipython3",
   "version": "3.9.5"
  }
 },
 "nbformat": 4,
 "nbformat_minor": 5
}
