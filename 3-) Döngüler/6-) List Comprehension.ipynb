{
 "cells": [
  {
   "cell_type": "markdown",
   "id": "98dd8e36",
   "metadata": {},
   "source": [
    "# List Comprehension\n",
    "\n",
    "Bu konuda listeleri üretmek ve oluşturmak Pythonda çok pratik bir yöntem olan \"List Comprehension\" konusunu öğreneceğiz. Biliyorsunuz Pythonda birçok işimizi çok kısa kodlar halledebiliyoruz. Ancak kodları daha da kısaltmak ve pratik yöntemler kullanmak her zaman isteriz. Şimdi örneklerimizle list comprehension'ı anlamaya çalışalım."
   ]
  },
  {
   "cell_type": "code",
   "execution_count": 1,
   "id": "1f563f21",
   "metadata": {},
   "outputs": [],
   "source": [
    "# Listelerdeki append metodunu hatırlayalım.\n",
    "liste = [1,2,3,4]\n",
    "liste.append(5)"
   ]
  },
  {
   "cell_type": "code",
   "execution_count": 2,
   "id": "d2c4bc9a",
   "metadata": {},
   "outputs": [
    {
     "data": {
      "text/plain": [
       "[1, 2, 3, 4, 5]"
      ]
     },
     "execution_count": 2,
     "metadata": {},
     "output_type": "execute_result"
    }
   ],
   "source": [
    "liste"
   ]
  },
  {
   "cell_type": "code",
   "execution_count": 3,
   "id": "57acdd01",
   "metadata": {},
   "outputs": [
    {
     "name": "stdout",
     "output_type": "stream",
     "text": [
      "[1, 2, 3, 4, 5]\n"
     ]
    }
   ],
   "source": [
    "# liste1'den liste2'yi oluşturalım.\n",
    "\n",
    "liste1 = [1,2,3,4,5]\n",
    "\n",
    "liste2 = list() # veya liste2 = [] ikisi de boş liste oluşturur.\n",
    "\n",
    "\n",
    "for i in liste1:\n",
    "    liste2.append(i) # liste2 'ye liste1 in elemanları for döngüsü yardımıyla atıyoruz.\n",
    "    \n",
    "print(liste2)"
   ]
  },
  {
   "cell_type": "markdown",
   "id": "d1c7ec4e",
   "metadata": {},
   "source": [
    "Acaba bu kodumuzu list comprehension ile daha kısa yazabilir miyiz ?"
   ]
  },
  {
   "cell_type": "code",
   "execution_count": 5,
   "id": "5d57880b",
   "metadata": {},
   "outputs": [
    {
     "name": "stdout",
     "output_type": "stream",
     "text": [
      "[1, 2, 3]\n"
     ]
    }
   ],
   "source": [
    "liste1 = [1,2,3]\n",
    "liste2 = [i for i in liste1]\n",
    "print(liste2)"
   ]
  },
  {
   "cell_type": "code",
   "execution_count": 6,
   "id": "2a84ec81",
   "metadata": {},
   "outputs": [
    {
     "name": "stdout",
     "output_type": "stream",
     "text": [
      "[2, 4, 6]\n"
     ]
    }
   ],
   "source": [
    "liste1= [1,2,3]\n",
    "liste2 = [i*2 for i in liste1]\n",
    "print(liste2)"
   ]
  },
  {
   "cell_type": "code",
   "execution_count": 8,
   "id": "57fd752f",
   "metadata": {},
   "outputs": [
    {
     "name": "stdout",
     "output_type": "stream",
     "text": [
      "[6, 120, 504]\n"
     ]
    }
   ],
   "source": [
    "liste1 = [{1,2,3}, {4,5,6}, {7,8,9}]\n",
    "liste2 = [i*j*l for i,j,l in liste1]\n",
    "print(liste2)"
   ]
  },
  {
   "cell_type": "code",
   "execution_count": 15,
   "id": "b2eaa2d2",
   "metadata": {},
   "outputs": [
    {
     "name": "stdout",
     "output_type": "stream",
     "text": [
      "[1, 2, 3, 5, 6, 7, 8, 10]\n"
     ]
    }
   ],
   "source": [
    "liste1 = [1,2,3,4,5,6,7,8,9,10] # Örnek 4\n",
    "\n",
    "liste2 = [i for i in liste1 if not (i == 4 or i == 9)] # List Comprehension\n",
    "\n",
    "print(liste2)"
   ]
  },
  {
   "cell_type": "code",
   "execution_count": 13,
   "id": "1cd4b952",
   "metadata": {},
   "outputs": [
    {
     "name": "stdout",
     "output_type": "stream",
     "text": [
      "['mehmet emin ketrizmehmet emin ketrizmehmet emin ketriz']\n"
     ]
    }
   ],
   "source": [
    "liste = [\"mehmet emin ketriz\"]\n",
    "liste1 = [i * 3 for i in liste ]\n",
    "print(liste1)"
   ]
  },
  {
   "cell_type": "code",
   "execution_count": 14,
   "id": "ac7e2fae",
   "metadata": {},
   "outputs": [
    {
     "name": "stdout",
     "output_type": "stream",
     "text": [
      "['mmm', 'eee', 'hhh', 'mmm', 'eee', 'ttt', '   ', 'eee', 'mmm', 'iii', 'nnn', '   ', 'kkk', 'eee', 'ttt', 'rrr', 'iii', 'zzz']\n"
     ]
    }
   ],
   "source": [
    "liste = \"mehmet emin ketriz\"\n",
    "liste2 = [i * 3 for i in liste]\n",
    "print(liste2)"
   ]
  },
  {
   "cell_type": "markdown",
   "id": "9049b0bd",
   "metadata": {},
   "source": [
    "Peki iç içe listeleri tek bir liste haline list comprehension ile nasıl getirebiliriz ? İlk önce normal yolumuzu görelim."
   ]
  },
  {
   "cell_type": "code",
   "execution_count": 26,
   "id": "d19c8dea",
   "metadata": {},
   "outputs": [
    {
     "name": "stdout",
     "output_type": "stream",
     "text": [
      "[1, 2, 3, 4, 5, 6, 7, 8, 9, 10, 11, 12, 13, 14, 15]\n"
     ]
    }
   ],
   "source": [
    "liste = [[1,2,3],[4,5,6,7,8],[9,10,11,12,13,14,15]]\n",
    "liste2 = list()\n",
    "for i in liste:\n",
    "    for x in i:\n",
    "        liste2.append(x)\n",
    "print(liste2)\n",
    "\n",
    "# bu list comprehension olmayan hali"
   ]
  },
  {
   "cell_type": "code",
   "execution_count": 29,
   "id": "28d55a6c",
   "metadata": {},
   "outputs": [
    {
     "name": "stdout",
     "output_type": "stream",
     "text": [
      "[1, 2, 3, 4, 5, 6, 7, 8, 9, 10, 11, 12, 13, 14, 15]\n"
     ]
    }
   ],
   "source": [
    "liste = [[1,2,3],[4,5,6,7,8],[9,10,11,12,13,14,15]]\n",
    "liste1 = [x for i in liste for x in i] # sonuç olarak bize x değerleri lazım bu x değerlerine ulaşmak için önce liste üzerinde\n",
    "# dolaşacağız sonrada her bir i elemanı üzerinde dolaşaacağız ve sonuö olarak bunları tek bir listeye toplayabileceğiz\n",
    "print(liste1)\n"
   ]
  },
  {
   "cell_type": "markdown",
   "id": "b1b941a3",
   "metadata": {},
   "source": [
    "İşte bu kadar ! Eğer \"List comprehension\" kullanmak istemezseniz, normal bir şekilde de listeleri oluşturabilirsiniz. Tamamen size kalmış"
   ]
  },
  {
   "cell_type": "code",
   "execution_count": null,
   "id": "da47d640",
   "metadata": {},
   "outputs": [],
   "source": []
  }
 ],
 "metadata": {
  "kernelspec": {
   "display_name": "Python 3 (ipykernel)",
   "language": "python",
   "name": "python3"
  },
  "language_info": {
   "codemirror_mode": {
    "name": "ipython",
    "version": 3
   },
   "file_extension": ".py",
   "mimetype": "text/x-python",
   "name": "python",
   "nbconvert_exporter": "python",
   "pygments_lexer": "ipython3",
   "version": "3.9.7"
  }
 },
 "nbformat": 4,
 "nbformat_minor": 5
}
