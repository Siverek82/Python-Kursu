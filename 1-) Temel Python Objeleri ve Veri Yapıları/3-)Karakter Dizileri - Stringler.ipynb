{
 "cells": [
  {
   "cell_type": "markdown",
   "id": "73e43860",
   "metadata": {},
   "source": [
    "# Karakter Dizileri (Stringler)\n",
    "\n",
    "Tekrardan Hoşgeldiniz ! Bu konuda stringleri öğrenmeye çalışacağız.Pythonda bir veri tipi olan Stringler veya Türkçe ismiyle karakter dizileri gerçek hayatta kullandığımız yazıların aynısıdır.Bu veri tipi aslında her biri bir karakter olan bir dizidir. Örnek olarak, \"ali\" stringi sırasıyla a,l,i harflerinden veya karakterlerden oluşmaktadır. Bu konuda stringleri ve stringlerin özelliklerini görmeye çalışacağız."
   ]
  },
  {
   "cell_type": "markdown",
   "id": "131ed0c7",
   "metadata": {},
   "source": [
    "# STRİNG oluşturma"
   ]
  },
  {
   "cell_type": "code",
   "execution_count": 1,
   "id": "705a12da",
   "metadata": {},
   "outputs": [
    {
     "data": {
      "text/plain": [
       "'Mehmet Emin Ketriz'"
      ]
     },
     "execution_count": 1,
     "metadata": {},
     "output_type": "execute_result"
    }
   ],
   "source": [
    "#tek tırnak ile\n",
    "'Mehmet Emin Ketriz'"
   ]
  },
  {
   "cell_type": "code",
   "execution_count": 2,
   "id": "f1d1b3a0",
   "metadata": {},
   "outputs": [
    {
     "data": {
      "text/plain": [
       "'Mehmet Emin'"
      ]
     },
     "execution_count": 2,
     "metadata": {},
     "output_type": "execute_result"
    }
   ],
   "source": [
    "#çift tırnak \n",
    "\"Mehmet Emin\""
   ]
  },
  {
   "cell_type": "code",
   "execution_count": 3,
   "id": "a0377834",
   "metadata": {},
   "outputs": [
    {
     "data": {
      "text/plain": [
       "\"'Mehmet Emin'\""
      ]
     },
     "execution_count": 3,
     "metadata": {},
     "output_type": "execute_result"
    }
   ],
   "source": [
    "# üç tırnak ile #klavyede bi sıkıntı var heralde\n",
    "\"'Mehmet Emin'\""
   ]
  },
  {
   "cell_type": "code",
   "execution_count": 4,
   "id": "aec04492",
   "metadata": {},
   "outputs": [
    {
     "data": {
      "text/plain": [
       "\"Emin'in bugün dersi var\""
      ]
     },
     "execution_count": 4,
     "metadata": {},
     "output_type": "execute_result"
    }
   ],
   "source": [
    "#Emin'in bugün dersi var yazısını tek tırnakla yazamayız en az iki tane olmalı\n",
    "\"Emin'in bugün dersi var\""
   ]
  },
  {
   "cell_type": "code",
   "execution_count": 5,
   "id": "e4f6a537",
   "metadata": {},
   "outputs": [
    {
     "data": {
      "text/plain": [
       "\"murat'ın bugün dersi var\""
      ]
     },
     "execution_count": 5,
     "metadata": {},
     "output_type": "execute_result"
    }
   ],
   "source": [
    "#kaçış stringi : normalde tek tırnakla kesme işaretli bir cümle yazılamaz ama kaçış stringi sayesinde olabiliyor\n",
    "'murat\\'ın bugün dersi var'"
   ]
  },
  {
   "cell_type": "code",
   "execution_count": 6,
   "id": "51c263d8",
   "metadata": {},
   "outputs": [
    {
     "data": {
      "text/plain": [
       "'merhaba'"
      ]
     },
     "execution_count": 6,
     "metadata": {},
     "output_type": "execute_result"
    }
   ],
   "source": [
    "#değişken atama\n",
    "a='merhaba'\n",
    "a"
   ]
  },
  {
   "cell_type": "code",
   "execution_count": 7,
   "id": "a704c128",
   "metadata": {},
   "outputs": [
    {
     "ename": "NameError",
     "evalue": "name 'merhaba' is not defined",
     "output_type": "error",
     "traceback": [
      "\u001b[1;31m---------------------------------------------------------------------------\u001b[0m",
      "\u001b[1;31mNameError\u001b[0m                                 Traceback (most recent call last)",
      "\u001b[1;32m<ipython-input-7-21f3cb42be2b>\u001b[0m in \u001b[0;36m<module>\u001b[1;34m\u001b[0m\n\u001b[0;32m      1\u001b[0m \u001b[1;31m#böyle çalışmıyor\u001b[0m\u001b[1;33m\u001b[0m\u001b[1;33m\u001b[0m\u001b[1;33m\u001b[0m\u001b[0m\n\u001b[1;32m----> 2\u001b[1;33m \u001b[0ma\u001b[0m\u001b[1;33m=\u001b[0m\u001b[0mmerhaba\u001b[0m\u001b[1;33m\u001b[0m\u001b[1;33m\u001b[0m\u001b[0m\n\u001b[0m\u001b[0;32m      3\u001b[0m \u001b[0ma\u001b[0m\u001b[1;33m\u001b[0m\u001b[1;33m\u001b[0m\u001b[0m\n",
      "\u001b[1;31mNameError\u001b[0m: name 'merhaba' is not defined"
     ]
    }
   ],
   "source": [
    "#böyle çalışmıyor\n",
    "a=merhaba\n",
    "a"
   ]
  },
  {
   "cell_type": "markdown",
   "id": "314701c0",
   "metadata": {},
   "source": [
    "# String İndeksleme ve Parçalama"
   ]
  },
  {
   "cell_type": "markdown",
   "id": "becce2e0",
   "metadata": {},
   "source": [
    "# a-) string indeksleme"
   ]
  },
  {
   "cell_type": "code",
   "execution_count": 8,
   "id": "7dc769dd",
   "metadata": {},
   "outputs": [],
   "source": [
    "a = 'mehmet' \n",
    "#indeksi öğrenmek için köşeli parantez kullanılır indeksler sıfırdan başlar"
   ]
  },
  {
   "cell_type": "code",
   "execution_count": 9,
   "id": "9a1432d5",
   "metadata": {},
   "outputs": [
    {
     "data": {
      "text/plain": [
       "'m'"
      ]
     },
     "execution_count": 9,
     "metadata": {},
     "output_type": "execute_result"
    }
   ],
   "source": [
    "a[3]"
   ]
  },
  {
   "cell_type": "code",
   "execution_count": 10,
   "id": "fea7b88e",
   "metadata": {},
   "outputs": [
    {
     "data": {
      "text/plain": [
       "'t'"
      ]
     },
     "execution_count": 10,
     "metadata": {},
     "output_type": "execute_result"
    }
   ],
   "source": [
    "a[5]"
   ]
  },
  {
   "cell_type": "code",
   "execution_count": 11,
   "id": "0171f278",
   "metadata": {},
   "outputs": [],
   "source": [
    "#indeksleme sondan da yapılır -1 ile başlar"
   ]
  },
  {
   "cell_type": "code",
   "execution_count": 12,
   "id": "9244d940",
   "metadata": {},
   "outputs": [
    {
     "data": {
      "text/plain": [
       "'h'"
      ]
     },
     "execution_count": 12,
     "metadata": {},
     "output_type": "execute_result"
    }
   ],
   "source": [
    "a[-4]"
   ]
  },
  {
   "cell_type": "code",
   "execution_count": 13,
   "id": "b776c754",
   "metadata": {},
   "outputs": [
    {
     "data": {
      "text/plain": [
       "'t'"
      ]
     },
     "execution_count": 13,
     "metadata": {},
     "output_type": "execute_result"
    }
   ],
   "source": [
    "a[-1]"
   ]
  },
  {
   "cell_type": "markdown",
   "id": "17873fab",
   "metadata": {},
   "source": [
    "# b-) string parçalama"
   ]
  },
  {
   "cell_type": "code",
   "execution_count": 14,
   "id": "8ee7a7bc",
   "metadata": {},
   "outputs": [],
   "source": [
    "#formül (başlama indeksi : bitiş indeksi : atlama indeksi)"
   ]
  },
  {
   "cell_type": "code",
   "execution_count": 15,
   "id": "ffc6693f",
   "metadata": {},
   "outputs": [],
   "source": [
    "a='Ptyhon Programlama Dili'"
   ]
  },
  {
   "cell_type": "code",
   "execution_count": 16,
   "id": "d7732b8e",
   "metadata": {},
   "outputs": [],
   "source": [
    "# a[4:10] yani 4. den başla 10 a kadar git 10'u dahil etme - atlama indeksi eklenmemiş ama eklenirse o da çalışır"
   ]
  },
  {
   "cell_type": "code",
   "execution_count": 17,
   "id": "ecad2d72",
   "metadata": {},
   "outputs": [
    {
     "data": {
      "text/plain": [
       "'n Prog'"
      ]
     },
     "execution_count": 17,
     "metadata": {},
     "output_type": "execute_result"
    }
   ],
   "source": [
    "a[5:11]"
   ]
  },
  {
   "cell_type": "code",
   "execution_count": 18,
   "id": "2f4ce7e8",
   "metadata": {},
   "outputs": [
    {
     "data": {
      "text/plain": [
       "'Ptyhon Pro'"
      ]
     },
     "execution_count": 18,
     "metadata": {},
     "output_type": "execute_result"
    }
   ],
   "source": [
    "a[:10] #baştan sona git 10 u alma"
   ]
  },
  {
   "cell_type": "code",
   "execution_count": 19,
   "id": "662cb932",
   "metadata": {},
   "outputs": [
    {
     "data": {
      "text/plain": [
       "'on Programlama Dili'"
      ]
     },
     "execution_count": 19,
     "metadata": {},
     "output_type": "execute_result"
    }
   ],
   "source": [
    "a[4:]"
   ]
  },
  {
   "cell_type": "code",
   "execution_count": 20,
   "id": "97176dcd",
   "metadata": {},
   "outputs": [
    {
     "data": {
      "text/plain": [
       "'Ptyhon Programlama Dili'"
      ]
     },
     "execution_count": 20,
     "metadata": {},
     "output_type": "execute_result"
    }
   ],
   "source": [
    "a[:]"
   ]
  },
  {
   "cell_type": "code",
   "execution_count": 21,
   "id": "3f7c00b8",
   "metadata": {},
   "outputs": [
    {
     "data": {
      "text/plain": [
       "'Ptyhon Programlama Dil'"
      ]
     },
     "execution_count": 21,
     "metadata": {},
     "output_type": "execute_result"
    }
   ],
   "source": [
    "a[:-1]"
   ]
  },
  {
   "cell_type": "code",
   "execution_count": 22,
   "id": "e3652e34",
   "metadata": {},
   "outputs": [
    {
     "data": {
      "text/plain": [
       "'Pyo rgalm ii'"
      ]
     },
     "execution_count": 22,
     "metadata": {},
     "output_type": "execute_result"
    }
   ],
   "source": [
    "a[::2] # p yi alıyor t yi almıyor y yi alıyor h yi almıyor böyle devam"
   ]
  },
  {
   "cell_type": "code",
   "execution_count": 23,
   "id": "432b42ec",
   "metadata": {},
   "outputs": [
    {
     "data": {
      "text/plain": [
       "'thnPo'"
      ]
     },
     "execution_count": 23,
     "metadata": {},
     "output_type": "execute_result"
    }
   ],
   "source": [
    "a[1:10:2]"
   ]
  },
  {
   "cell_type": "code",
   "execution_count": 24,
   "id": "ac7ddb73",
   "metadata": {},
   "outputs": [
    {
     "data": {
      "text/plain": [
       "'tno'"
      ]
     },
     "execution_count": 24,
     "metadata": {},
     "output_type": "execute_result"
    }
   ],
   "source": [
    "a[1:10:4]"
   ]
  },
  {
   "cell_type": "code",
   "execution_count": 25,
   "id": "a8e3be3d",
   "metadata": {},
   "outputs": [
    {
     "data": {
      "text/plain": [
       "'iliD amalmargorP nohytP'"
      ]
     },
     "execution_count": 25,
     "metadata": {},
     "output_type": "execute_result"
    }
   ],
   "source": [
    "a[::-1] #tersten yazdı"
   ]
  },
  {
   "cell_type": "markdown",
   "id": "5ddc02ea",
   "metadata": {},
   "source": [
    "#  String Özellikleri"
   ]
  },
  {
   "cell_type": "code",
   "execution_count": 26,
   "id": "ad07071e",
   "metadata": {},
   "outputs": [],
   "source": [
    "#string uzunluğu bulma uzunluk anlamına gelen lent in kısaltımı olan len fonksiyonuyla"
   ]
  },
  {
   "cell_type": "code",
   "execution_count": 27,
   "id": "2b29d6f0",
   "metadata": {},
   "outputs": [],
   "source": [
    "a = 'Siverek Karacadağ Anadolu Lisesi'"
   ]
  },
  {
   "cell_type": "code",
   "execution_count": 28,
   "id": "e2321d6a",
   "metadata": {},
   "outputs": [
    {
     "data": {
      "text/plain": [
       "32"
      ]
     },
     "execution_count": 28,
     "metadata": {},
     "output_type": "execute_result"
    }
   ],
   "source": [
    "len(a) #32 haarf var"
   ]
  },
  {
   "cell_type": "code",
   "execution_count": 29,
   "id": "8aff7b77",
   "metadata": {},
   "outputs": [
    {
     "data": {
      "text/plain": [
       "32"
      ]
     },
     "execution_count": 29,
     "metadata": {},
     "output_type": "execute_result"
    }
   ],
   "source": [
    "len(a)"
   ]
  },
  {
   "cell_type": "code",
   "execution_count": 30,
   "id": "5ab5e056",
   "metadata": {},
   "outputs": [],
   "source": [
    "#stringi değiştirme direk yapılamaz"
   ]
  },
  {
   "cell_type": "code",
   "execution_count": 31,
   "id": "5fd2027e",
   "metadata": {},
   "outputs": [
    {
     "ename": "TypeError",
     "evalue": "'str' object does not support item assignment",
     "output_type": "error",
     "traceback": [
      "\u001b[1;31m---------------------------------------------------------------------------\u001b[0m",
      "\u001b[1;31mTypeError\u001b[0m                                 Traceback (most recent call last)",
      "\u001b[1;32m<ipython-input-31-110c80b1b047>\u001b[0m in \u001b[0;36m<module>\u001b[1;34m\u001b[0m\n\u001b[1;32m----> 1\u001b[1;33m \u001b[0ma\u001b[0m\u001b[1;33m[\u001b[0m\u001b[1;36m15\u001b[0m\u001b[1;33m]\u001b[0m \u001b[1;33m=\u001b[0m \u001b[1;34m'g'\u001b[0m\u001b[1;33m\u001b[0m\u001b[1;33m\u001b[0m\u001b[0m\n\u001b[0m",
      "\u001b[1;31mTypeError\u001b[0m: 'str' object does not support item assignment"
     ]
    }
   ],
   "source": [
    "a[15] = 'g'"
   ]
  },
  {
   "cell_type": "code",
   "execution_count": 32,
   "id": "a2983e81",
   "metadata": {},
   "outputs": [],
   "source": [
    "ab = 'mehmet '\n",
    "cd = 'emin '\n",
    "ef = 'ketriz'"
   ]
  },
  {
   "cell_type": "code",
   "execution_count": 33,
   "id": "55ab460c",
   "metadata": {},
   "outputs": [
    {
     "data": {
      "text/plain": [
       "'mehmet emin ketriz'"
      ]
     },
     "execution_count": 33,
     "metadata": {},
     "output_type": "execute_result"
    }
   ],
   "source": [
    "ab+cd+ef"
   ]
  },
  {
   "cell_type": "code",
   "execution_count": 34,
   "id": "991236d8",
   "metadata": {},
   "outputs": [
    {
     "data": {
      "text/plain": [
       "'mehmet mehmet mehmet '"
      ]
     },
     "execution_count": 34,
     "metadata": {},
     "output_type": "execute_result"
    }
   ],
   "source": [
    "ab*3"
   ]
  },
  {
   "cell_type": "code",
   "execution_count": 35,
   "id": "70c5c297",
   "metadata": {},
   "outputs": [
    {
     "data": {
      "text/plain": [
       "'mehmet emin mehmet emin mehmet emin '"
      ]
     },
     "execution_count": 35,
     "metadata": {},
     "output_type": "execute_result"
    }
   ],
   "source": [
    "(ab+cd)*3"
   ]
  },
  {
   "cell_type": "markdown",
   "id": "afd62fb5",
   "metadata": {},
   "source": [
    "# ÖNEMLİ !!!"
   ]
  },
  {
   "cell_type": "code",
   "execution_count": 36,
   "id": "deee5df4",
   "metadata": {},
   "outputs": [],
   "source": [
    "#stringi değiştirme direk yapılamaz"
   ]
  },
  {
   "cell_type": "code",
   "execution_count": 37,
   "id": "e98c9ad5",
   "metadata": {},
   "outputs": [
    {
     "ename": "TypeError",
     "evalue": "'str' object does not support item assignment",
     "output_type": "error",
     "traceback": [
      "\u001b[1;31m---------------------------------------------------------------------------\u001b[0m",
      "\u001b[1;31mTypeError\u001b[0m                                 Traceback (most recent call last)",
      "\u001b[1;32m<ipython-input-37-771aa9edcc61>\u001b[0m in \u001b[0;36m<module>\u001b[1;34m\u001b[0m\n\u001b[1;32m----> 1\u001b[1;33m \u001b[0mab\u001b[0m\u001b[1;33m[\u001b[0m\u001b[1;36m2\u001b[0m\u001b[1;33m]\u001b[0m \u001b[1;33m=\u001b[0m \u001b[1;34m'g'\u001b[0m\u001b[1;33m\u001b[0m\u001b[1;33m\u001b[0m\u001b[0m\n\u001b[0m",
      "\u001b[1;31mTypeError\u001b[0m: 'str' object does not support item assignment"
     ]
    }
   ],
   "source": [
    "ab[2] = 'g'"
   ]
  },
  {
   "cell_type": "code",
   "execution_count": 38,
   "id": "ffd5024c",
   "metadata": {},
   "outputs": [],
   "source": [
    "#AMA ŞÖYLE BİR DETAY VAR"
   ]
  },
  {
   "cell_type": "code",
   "execution_count": 39,
   "id": "71590bf8",
   "metadata": {},
   "outputs": [
    {
     "data": {
      "text/plain": [
       "'mehmet emin ketriz'"
      ]
     },
     "execution_count": 39,
     "metadata": {},
     "output_type": "execute_result"
    }
   ],
   "source": [
    "ab= ab+ 'emin ketriz'\n",
    "ab"
   ]
  },
  {
   "cell_type": "code",
   "execution_count": 40,
   "id": "54727cfc",
   "metadata": {},
   "outputs": [],
   "source": [
    "#İşte Bu şekilde değişebiliyor "
   ]
  }
 ],
 "metadata": {
  "kernelspec": {
   "display_name": "Python 3",
   "language": "python",
   "name": "python3"
  },
  "language_info": {
   "codemirror_mode": {
    "name": "ipython",
    "version": 3
   },
   "file_extension": ".py",
   "mimetype": "text/x-python",
   "name": "python",
   "nbconvert_exporter": "python",
   "pygments_lexer": "ipython3",
   "version": "3.8.8"
  }
 },
 "nbformat": 4,
 "nbformat_minor": 5
}
