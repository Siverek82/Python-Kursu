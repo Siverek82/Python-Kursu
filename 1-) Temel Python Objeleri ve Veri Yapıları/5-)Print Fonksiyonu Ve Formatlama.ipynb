{
 "cells": [
  {
   "cell_type": "markdown",
   "id": "9c54717f",
   "metadata": {},
   "source": [
    "# Print Fonksiyonu ve Formatlama\n",
    "\n",
    "Bu bölümde ekrana veri tiplerini yazdırmak için kullandığımız print() fonksiyonunu ve formatlama yöntemlerini öğreneceğiz.\n",
    "\n",
    "Print() Fonksiyonu\n",
    "Kodlarımızı dosyalara yazdığımızda, eğer ekrana bir değer bastırmak istersek print fonksiyonunu kullanırız. Kullanımı oldukça basittir ve değişik özelliklere sahiptir. Örneklerimize bakalım."
   ]
  },
  {
   "cell_type": "code",
   "execution_count": 1,
   "id": "e45fc248",
   "metadata": {},
   "outputs": [
    {
     "name": "stdout",
     "output_type": "stream",
     "text": [
      "35\n"
     ]
    }
   ],
   "source": [
    "print(35)"
   ]
  },
  {
   "cell_type": "code",
   "execution_count": 2,
   "id": "32514401",
   "metadata": {},
   "outputs": [
    {
     "name": "stdout",
     "output_type": "stream",
     "text": [
      "3.14\n"
     ]
    }
   ],
   "source": [
    "print(3.14)"
   ]
  },
  {
   "cell_type": "code",
   "execution_count": 3,
   "id": "dda5912d",
   "metadata": {},
   "outputs": [
    {
     "name": "stdout",
     "output_type": "stream",
     "text": [
      "19\n"
     ]
    }
   ],
   "source": [
    "a = 4\n",
    "b = 15\n",
    "print(a+b)"
   ]
  },
  {
   "cell_type": "code",
   "execution_count": 2,
   "id": "86b608ec",
   "metadata": {},
   "outputs": [
    {
     "name": "stdout",
     "output_type": "stream",
     "text": [
      "12-İ 1744 SKAl 2021 Mezunu\n"
     ]
    }
   ],
   "source": [
    "print('12-İ', 1744, 'SKAl', '2021 Mezunu')"
   ]
  },
  {
   "cell_type": "markdown",
   "id": "30077cc3",
   "metadata": {},
   "source": [
    "# Stringlerdeki Özel Karakterler "
   ]
  },
  {
   "cell_type": "markdown",
   "id": "f8bd0033",
   "metadata": {},
   "source": [
    "# a-) \\n karakteri"
   ]
  },
  {
   "cell_type": "code",
   "execution_count": 5,
   "id": "bdb7e798",
   "metadata": {},
   "outputs": [
    {
     "name": "stdout",
     "output_type": "stream",
     "text": [
      " Merhaba \n",
      " Ben Mehmet Emin KETRİZ \n",
      " Senin adın ne?\n"
     ]
    }
   ],
   "source": [
    "print(' Merhaba \\n Ben Mehmet Emin KETRİZ \\n Senin adın ne?')"
   ]
  },
  {
   "cell_type": "code",
   "execution_count": 7,
   "id": "c23a44f3",
   "metadata": {},
   "outputs": [
    {
     "name": "stdout",
     "output_type": "stream",
     "text": [
      "Merhaba\n",
      "Ben Mehmet Emin KETRİZ\n",
      "Senin adın ne?\n"
     ]
    }
   ],
   "source": [
    "print('Merhaba\\nBen Mehmet Emin KETRİZ\\nSenin adın ne?')"
   ]
  },
  {
   "cell_type": "markdown",
   "id": "f09d907c",
   "metadata": {},
   "source": [
    "# b-) \\t karakteri"
   ]
  },
  {
   "cell_type": "code",
   "execution_count": 8,
   "id": "2cf534c8",
   "metadata": {},
   "outputs": [],
   "source": [
    "#bu kelimler arası 4 boşluk yani 1 tab boşluk bırakıyor"
   ]
  },
  {
   "cell_type": "code",
   "execution_count": 12,
   "id": "23124bf5",
   "metadata": {},
   "outputs": [
    {
     "name": "stdout",
     "output_type": "stream",
     "text": [
      "Mehmet\tEmin\n"
     ]
    }
   ],
   "source": [
    "print('Mehmet\\tEmin')"
   ]
  },
  {
   "cell_type": "markdown",
   "id": "653e8ce4",
   "metadata": {},
   "source": [
    "# Type() Fonksiyonu"
   ]
  },
  {
   "cell_type": "code",
   "execution_count": 15,
   "id": "811b2c71",
   "metadata": {},
   "outputs": [
    {
     "data": {
      "text/plain": [
       "int"
      ]
     },
     "execution_count": 15,
     "metadata": {},
     "output_type": "execute_result"
    }
   ],
   "source": [
    "a= 5\n",
    "type(a)"
   ]
  },
  {
   "cell_type": "code",
   "execution_count": 16,
   "id": "81f16a0b",
   "metadata": {},
   "outputs": [
    {
     "data": {
      "text/plain": [
       "float"
      ]
     },
     "execution_count": 16,
     "metadata": {},
     "output_type": "execute_result"
    }
   ],
   "source": [
    "a= 3.14\n",
    "type(a)"
   ]
  },
  {
   "cell_type": "code",
   "execution_count": 18,
   "id": "a253a5a4",
   "metadata": {},
   "outputs": [
    {
     "data": {
      "text/plain": [
       "str"
      ]
     },
     "execution_count": 18,
     "metadata": {},
     "output_type": "execute_result"
    }
   ],
   "source": [
    "a= 'print'\n",
    "type(a)"
   ]
  },
  {
   "cell_type": "code",
   "execution_count": 19,
   "id": "8c586294",
   "metadata": {},
   "outputs": [
    {
     "data": {
      "text/plain": [
       "str"
      ]
     },
     "execution_count": 19,
     "metadata": {},
     "output_type": "execute_result"
    }
   ],
   "source": [
    "a= 'str'\n",
    "type(a)"
   ]
  },
  {
   "cell_type": "code",
   "execution_count": 21,
   "id": "20702afe",
   "metadata": {},
   "outputs": [
    {
     "data": {
      "text/plain": [
       "float"
      ]
     },
     "execution_count": 21,
     "metadata": {},
     "output_type": "execute_result"
    }
   ],
   "source": [
    "a= 5/5\n",
    "type(a)"
   ]
  },
  {
   "cell_type": "code",
   "execution_count": 22,
   "id": "8925bba2",
   "metadata": {},
   "outputs": [
    {
     "data": {
      "text/plain": [
       "int"
      ]
     },
     "execution_count": 22,
     "metadata": {},
     "output_type": "execute_result"
    }
   ],
   "source": [
    "type(5)"
   ]
  },
  {
   "cell_type": "code",
   "execution_count": 23,
   "id": "3cbea6e9",
   "metadata": {},
   "outputs": [
    {
     "data": {
      "text/plain": [
       "str"
      ]
     },
     "execution_count": 23,
     "metadata": {},
     "output_type": "execute_result"
    }
   ],
   "source": [
    "type('sa')"
   ]
  },
  {
   "cell_type": "markdown",
   "id": "2130b0db",
   "metadata": {},
   "source": [
    "# print() Fonk. Özellikleri"
   ]
  },
  {
   "cell_type": "raw",
   "id": "2d6f38c0",
   "metadata": {},
   "source": [
    "print fonksiyonunda kullanılabilen sep parametresi yazdırdığımı< değerlerin arasına istediğimiz semolleri katmamıza olanak sağlar. sep kullanılırken hemen öncesin de , gelmeli"
   ]
  },
  {
   "cell_type": "code",
   "execution_count": 34,
   "id": "0c162043",
   "metadata": {},
   "outputs": [
    {
     "name": "stdout",
     "output_type": "stream",
     "text": [
      "1 2 3 4 5 6 7 8 9\n"
     ]
    }
   ],
   "source": [
    "print(1,2,3,4,5,6,7,8,9)"
   ]
  },
  {
   "cell_type": "code",
   "execution_count": 35,
   "id": "a488b8cc",
   "metadata": {},
   "outputs": [
    {
     "name": "stdout",
     "output_type": "stream",
     "text": [
      "1.2.3.4.5.6.7.8.9\n"
     ]
    }
   ],
   "source": [
    "print(1,2,3,4,5,6,7,8,9,sep = '.')"
   ]
  },
  {
   "cell_type": "code",
   "execution_count": 36,
   "id": "ae973285",
   "metadata": {},
   "outputs": [
    {
     "name": "stdout",
     "output_type": "stream",
     "text": [
      "1?2?3?4?5?6?7?8?9\n"
     ]
    }
   ],
   "source": [
    "print(1,2,3,4,5,6,7,8,9,sep = '?')"
   ]
  },
  {
   "cell_type": "code",
   "execution_count": 37,
   "id": "3cb816f6",
   "metadata": {},
   "outputs": [
    {
     "name": "stdout",
     "output_type": "stream",
     "text": [
      "1/2/3/4/5/6/7/8/9\n"
     ]
    }
   ],
   "source": [
    "#ters \\ eklenemiyor\n",
    "print(1,2,3,4,5,6,7,8,9,sep = '/')"
   ]
  },
  {
   "cell_type": "code",
   "execution_count": 38,
   "id": "375985e9",
   "metadata": {},
   "outputs": [
    {
     "name": "stdout",
     "output_type": "stream",
     "text": [
      "1\n",
      "2\n",
      "3\n",
      "4\n",
      "5\n",
      "6\n",
      "7\n",
      "8\n",
      "9\n"
     ]
    }
   ],
   "source": [
    "print(1,2,3,4,5,6,7,8,9,sep = '\\n')"
   ]
  },
  {
   "cell_type": "code",
   "execution_count": 39,
   "id": "b38fe49f",
   "metadata": {},
   "outputs": [
    {
     "name": "stdout",
     "output_type": "stream",
     "text": [
      "1\t2\t3\t4\t5\t6\t7\t8\t9\n"
     ]
    }
   ],
   "source": [
    "print(1,2,3,4,5,6,7,8,9,sep = '\\t')"
   ]
  },
  {
   "cell_type": "raw",
   "id": "685651ba",
   "metadata": {},
   "source": [
    "YILDIZLI PARAMETRELER (*) bu yazılan her bir karakter üzerinde oynuyabilmemizi sağlıyor"
   ]
  },
  {
   "cell_type": "code",
   "execution_count": 40,
   "id": "5779967f",
   "metadata": {},
   "outputs": [
    {
     "name": "stdout",
     "output_type": "stream",
     "text": [
      "p y t h o n\n"
     ]
    }
   ],
   "source": [
    "print(*'python')"
   ]
  },
  {
   "cell_type": "code",
   "execution_count": 41,
   "id": "a1dd2946",
   "metadata": {},
   "outputs": [
    {
     "name": "stdout",
     "output_type": "stream",
     "text": [
      "p\n",
      "y\n",
      "t\n",
      "h\n",
      "o\n",
      "n\n"
     ]
    }
   ],
   "source": [
    "print(*'python',sep='\\n')"
   ]
  },
  {
   "cell_type": "code",
   "execution_count": 42,
   "id": "199c1dd5",
   "metadata": {},
   "outputs": [
    {
     "name": "stdout",
     "output_type": "stream",
     "text": [
      "T.S.K\n"
     ]
    }
   ],
   "source": [
    "print(*'TSK',sep='.')"
   ]
  },
  {
   "cell_type": "code",
   "execution_count": 43,
   "id": "0d425590",
   "metadata": {},
   "outputs": [
    {
     "name": "stdout",
     "output_type": "stream",
     "text": [
      "T.B.M.M\n"
     ]
    }
   ],
   "source": [
    "print(*'T','B','M','M',sep='.')"
   ]
  },
  {
   "cell_type": "code",
   "execution_count": 44,
   "id": "67943ea0",
   "metadata": {},
   "outputs": [
    {
     "name": "stdout",
     "output_type": "stream",
     "text": [
      "T.B.M.M\n"
     ]
    }
   ],
   "source": [
    "print(*'TBMM',sep='.')"
   ]
  },
  {
   "cell_type": "markdown",
   "id": "d8cb4a07",
   "metadata": {},
   "source": [
    "# FORTMALAMA\n",
    "Programlama yaparken bazı yerlerde bir stringin içinde daha önceden tanımlı string,float, int vs. değerleri yerleştirmek isteyebiliriz. Böyle durumlar için Pythonda format() fonksiyonu bulunmaktadır. Örneğin, programımızda 3 tane tamsayı değerimiz var ve biz bunları bir string içinde ekrana basmak istiyoruz. Bunun için format() fonksiyonunu kullanabiliriz. format() fonksiyonunun çok fazla özelliği olduğu için, ben burada sadece en çok kullandığımız özelliğini göstereceğim."
   ]
  },
  {
   "cell_type": "code",
   "execution_count": 45,
   "id": "1af55beb",
   "metadata": {},
   "outputs": [
    {
     "data": {
      "text/plain": [
       "'3.1423 5.324 7.324324'"
      ]
     },
     "execution_count": 45,
     "metadata": {},
     "output_type": "execute_result"
    }
   ],
   "source": [
    "# Burada 3 tane süslü parantezimiz ({}) var ve bunların yerine sırasıyla format fonksiyonun içindeki değerler geçiyor.\n",
    "\"{} {} {}\".format(3.1423,5.324,7.324324)"
   ]
  },
  {
   "cell_type": "code",
   "execution_count": 46,
   "id": "4f8b5456",
   "metadata": {},
   "outputs": [
    {
     "name": "stdout",
     "output_type": "stream",
     "text": [
      "3 + 4 'nin toplamı 7 'dır\n"
     ]
    }
   ],
   "source": [
    "a = 3\n",
    "b = 4\n",
    "print(\"{} + {} 'nin toplamı {} 'dır\".format(a,b,a+b))"
   ]
  },
  {
   "cell_type": "code",
   "execution_count": 51,
   "id": "a667eed1",
   "metadata": {},
   "outputs": [
    {
     "name": "stdout",
     "output_type": "stream",
     "text": [
      "10 + 20' toplandı 30' a bölündü sonuç 1.0\n"
     ]
    }
   ],
   "source": [
    "a=10\n",
    "b=20\n",
    "c=30\n",
    "print('''{} + {}\\' toplandı {}\\' a bölündü sonuç {}'''.format(a,b,c,(a+b)/c))"
   ]
  },
  {
   "cell_type": "code",
   "execution_count": 72,
   "id": "a026e034",
   "metadata": {},
   "outputs": [
    {
     "data": {
      "text/plain": [
       "'(5+5)/5=2'"
      ]
     },
     "execution_count": 72,
     "metadata": {},
     "output_type": "execute_result"
    }
   ],
   "source": [
    "#indeksler kullanılarakta süslü parantezler kullanılabilir\n",
    "a=5\n",
    "b=5\n",
    "c=5\n",
    "'({0}+{1})/{2}={3}'.format(a,b,c,int((a+b)/c))"
   ]
  },
  {
   "cell_type": "code",
   "execution_count": 73,
   "id": "c4393cc3",
   "metadata": {},
   "outputs": [
    {
     "data": {
      "text/plain": [
       "'Murat 43 54'"
      ]
     },
     "execution_count": 73,
     "metadata": {},
     "output_type": "execute_result"
    }
   ],
   "source": [
    "# Süslü parantezlerin içindeki sayılar format fonksiyonun içinden hangi sıradaki değerin geleceğini söylüyor.\n",
    "\"{1} {0} {2}\".format(43,\"Murat\",54)"
   ]
  },
  {
   "cell_type": "code",
   "execution_count": 75,
   "id": "25cc96b3",
   "metadata": {},
   "outputs": [
    {
     "data": {
      "text/plain": [
       "'3.15 5.32 7.324'"
      ]
     },
     "execution_count": 75,
     "metadata": {},
     "output_type": "execute_result"
    }
   ],
   "source": [
    "# Süslü parantezlerin içindeki kullanım ondalıklı kısmın sadece 2 basamağına kadar almak istediğimiz söylüyor.\n",
    "#hesap makinelerinde fazla uzun sonuç çıkmasın diye kullanılabilir\n",
    "\"{:.2f} {:.2f} {:.3f}\".format(3.1463,5.324,7.324324)"
   ]
  },
  {
   "cell_type": "raw",
   "id": "f51e7e9a",
   "metadata": {},
   "source": [
    "Format fonksiyonu ile ilgili kullanımları ihtiyacınız olduğu zaman şu web sitesinden yararlanarak uygulayabilirsiniz; https://pyformat.info/\n",
    "\n",
    "print() fonksiyonu ve formatlama konumuz şimdilik bu kadar ! İsterseniz listeler konumuza geçelim."
   ]
  },
  {
   "cell_type": "code",
   "execution_count": null,
   "id": "a76a7cfb",
   "metadata": {},
   "outputs": [],
   "source": []
  }
 ],
 "metadata": {
  "kernelspec": {
   "display_name": "Python 3",
   "language": "python",
   "name": "python3"
  },
  "language_info": {
   "codemirror_mode": {
    "name": "ipython",
    "version": 3
   },
   "file_extension": ".py",
   "mimetype": "text/x-python",
   "name": "python",
   "nbconvert_exporter": "python",
   "pygments_lexer": "ipython3",
   "version": "3.8.8"
  }
 },
 "nbformat": 4,
 "nbformat_minor": 5
}
