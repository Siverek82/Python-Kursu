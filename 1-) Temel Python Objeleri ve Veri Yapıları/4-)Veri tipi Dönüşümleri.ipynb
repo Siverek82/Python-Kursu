{
 "cells": [
  {
   "cell_type": "markdown",
   "id": "64336efb",
   "metadata": {},
   "source": [
    "# VERİ DÖNÜŞÜMLERİ"
   ]
  },
  {
   "cell_type": "markdown",
   "id": "156b81b0",
   "metadata": {},
   "source": [
    "# a-) Tamsayıyı Ondalıklı sayıya çevirme \n",
    "\n",
    "Bir tamsayı değeri(integer) ondalıklı sayıya(float) çevirmek için float() fonksiyonunu kullanabiliriz.Örneklere bakalım."
   ]
  },
  {
   "cell_type": "code",
   "execution_count": 6,
   "id": "187868f4",
   "metadata": {},
   "outputs": [
    {
     "data": {
      "text/plain": [
       "43.0"
      ]
     },
     "execution_count": 6,
     "metadata": {},
     "output_type": "execute_result"
    }
   ],
   "source": [
    "#ondalıklı sayılarda float kullanılır\n",
    "a= 43\n",
    "float(a)"
   ]
  },
  {
   "cell_type": "code",
   "execution_count": 7,
   "id": "d4009cbc",
   "metadata": {},
   "outputs": [
    {
     "data": {
      "text/plain": [
       "13.51"
      ]
     },
     "execution_count": 7,
     "metadata": {},
     "output_type": "execute_result"
    }
   ],
   "source": [
    "#ondalıklı sayıları . ile yazılır \n",
    "float(13.51)"
   ]
  },
  {
   "cell_type": "markdown",
   "id": "550e3bc2",
   "metadata": {},
   "source": [
    "# Ondalıklı sayıyı tamsayıya çevirme\n",
    "\n",
    "Bir ondalıklı sayıyı tamsayıya çevirmek için int() fonksiyonunu kullanabiliriz.Sonuç, ondalıklı sayının tam kısmı olarak karşımıza çıkacak.Örneklere bakalım."
   ]
  },
  {
   "cell_type": "code",
   "execution_count": 10,
   "id": "1a98270b",
   "metadata": {},
   "outputs": [
    {
     "data": {
      "text/plain": [
       "13"
      ]
     },
     "execution_count": 10,
     "metadata": {},
     "output_type": "execute_result"
    }
   ],
   "source": [
    "#tam sayılarda 'int' kullanılır\n",
    "int(13.51)"
   ]
  },
  {
   "cell_type": "markdown",
   "id": "07006dc4",
   "metadata": {},
   "source": [
    "# Sayıları stringlere çevirme\n",
    "\n",
    "Bir sayıyı string'e çevirmek için str() fonksiyonunu kullanabiliriz.Sayıyı oluşturan tüm rakamlar veya noktalar birer karaktere dönüşecek."
   ]
  },
  {
   "cell_type": "code",
   "execution_count": 11,
   "id": "d747e348",
   "metadata": {},
   "outputs": [],
   "source": [
    "#bir sayıyı string e çevirmek için 'str' fonksiyonu kullanılır"
   ]
  },
  {
   "cell_type": "code",
   "execution_count": 12,
   "id": "3950df9d",
   "metadata": {},
   "outputs": [
    {
     "data": {
      "text/plain": [
       "'1744'"
      ]
     },
     "execution_count": 12,
     "metadata": {},
     "output_type": "execute_result"
    }
   ],
   "source": [
    "str(1744)"
   ]
  },
  {
   "cell_type": "code",
   "execution_count": 13,
   "id": "55d30036",
   "metadata": {},
   "outputs": [
    {
     "data": {
      "text/plain": [
       "9"
      ]
     },
     "execution_count": 13,
     "metadata": {},
     "output_type": "execute_result"
    }
   ],
   "source": [
    "a = str(1744.2021)\n",
    "len(a)"
   ]
  },
  {
   "cell_type": "code",
   "execution_count": 14,
   "id": "37745542",
   "metadata": {},
   "outputs": [
    {
     "data": {
      "text/plain": [
       "'1744.2021'"
      ]
     },
     "execution_count": 14,
     "metadata": {},
     "output_type": "execute_result"
    }
   ],
   "source": [
    "a =str(1744.2021)\n",
    "a"
   ]
  },
  {
   "cell_type": "markdown",
   "id": "9f5a3330",
   "metadata": {},
   "source": [
    "# Stringleri Tam Ve Ondalıklı sayıya çevirme \n",
    "\n",
    "Bir string'i bir tamsayıya çevirmek istediğimiz zaman int() fonksiyonunu kullanabiliriz. Ancak biraz dikkatli olmamızda fayda var. Dönüştürme işlemini yaparken stringin herbir karakterinin bir rakam olduğundan emin olmalıyız. Örneklere bakalım."
   ]
  },
  {
   "cell_type": "code",
   "execution_count": 3,
   "id": "27de39d7",
   "metadata": {},
   "outputs": [
    {
     "data": {
      "text/plain": [
       "35454"
      ]
     },
     "execution_count": 3,
     "metadata": {},
     "output_type": "execute_result"
    }
   ],
   "source": [
    "a= '35454'\n",
    "a = int(a)\n",
    "a"
   ]
  },
  {
   "cell_type": "code",
   "execution_count": 4,
   "id": "6c2e1a61",
   "metadata": {},
   "outputs": [
    {
     "ename": "ValueError",
     "evalue": "invalid literal for int() with base 10: '35454.1853'",
     "output_type": "error",
     "traceback": [
      "\u001b[1;31m---------------------------------------------------------------------------\u001b[0m",
      "\u001b[1;31mValueError\u001b[0m                                Traceback (most recent call last)",
      "\u001b[1;32m<ipython-input-4-8da6c4b08fb1>\u001b[0m in \u001b[0;36m<module>\u001b[1;34m\u001b[0m\n\u001b[0;32m      1\u001b[0m \u001b[1;31m# bu işlemlerde ondalıklıysa float tamsayı ise int kullanılır ondalıklı olan bir sayının tamsayılısını alınamıyor\u001b[0m\u001b[1;33m\u001b[0m\u001b[1;33m\u001b[0m\u001b[1;33m\u001b[0m\u001b[0m\n\u001b[0;32m      2\u001b[0m \u001b[0ma\u001b[0m \u001b[1;33m=\u001b[0m \u001b[1;34m'35454.1853'\u001b[0m\u001b[1;33m\u001b[0m\u001b[1;33m\u001b[0m\u001b[0m\n\u001b[1;32m----> 3\u001b[1;33m \u001b[0mb\u001b[0m \u001b[1;33m=\u001b[0m \u001b[0mint\u001b[0m\u001b[1;33m(\u001b[0m\u001b[0ma\u001b[0m\u001b[1;33m)\u001b[0m\u001b[1;33m\u001b[0m\u001b[1;33m\u001b[0m\u001b[0m\n\u001b[0m\u001b[0;32m      4\u001b[0m \u001b[0mb\u001b[0m\u001b[1;33m\u001b[0m\u001b[1;33m\u001b[0m\u001b[0m\n",
      "\u001b[1;31mValueError\u001b[0m: invalid literal for int() with base 10: '35454.1853'"
     ]
    }
   ],
   "source": [
    "# bu işlemlerde ondalıklıysa float tamsayı ise int kullanılır ondalıklı olan bir sayının tamsayılısını alınamıyor \n",
    "a = '35454.1853'\n",
    "b = int(a)\n",
    "b"
   ]
  },
  {
   "cell_type": "markdown",
   "id": "caac705b",
   "metadata": {},
   "source": [
    "Bir string'i bir ondalıklı sayıya çevirmek istediğimiz zaman float() fonksiyonunu kullanabiliriz. Ancak biraz dikkatli olmamızda fayda var. Dönüştürme işlemini yaparken stringin ondalıklı sayı formatına uygun olduğundan emin olmalıyız. Örneklere bakalım."
   ]
  },
  {
   "cell_type": "code",
   "execution_count": 5,
   "id": "b5c7fc30",
   "metadata": {},
   "outputs": [
    {
     "data": {
      "text/plain": [
       "35454.1853"
      ]
     },
     "execution_count": 5,
     "metadata": {},
     "output_type": "execute_result"
    }
   ],
   "source": [
    "a = '35454.1853'\n",
    "b = float(a)\n",
    "b"
   ]
  },
  {
   "cell_type": "code",
   "execution_count": null,
   "id": "4cd67d35",
   "metadata": {},
   "outputs": [],
   "source": []
  }
 ],
 "metadata": {
  "kernelspec": {
   "display_name": "Python 3",
   "language": "python",
   "name": "python3"
  },
  "language_info": {
   "codemirror_mode": {
    "name": "ipython",
    "version": 3
   },
   "file_extension": ".py",
   "mimetype": "text/x-python",
   "name": "python",
   "nbconvert_exporter": "python",
   "pygments_lexer": "ipython3",
   "version": "3.8.8"
  }
 },
 "nbformat": 4,
 "nbformat_minor": 5
}
