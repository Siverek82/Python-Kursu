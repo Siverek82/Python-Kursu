{
 "cells": [
  {
   "cell_type": "markdown",
   "id": "93779f25",
   "metadata": {},
   "source": [
    "# Demetler (Tuplelar)\n",
    "\n",
    "Demetler veya İngilizce ismiyle tuplelar listelere oldukça benzer ancak farkları demetlerin değiştirilemez oluşudur. Bu yüzden programlarımızda değiştirilmesini istemediğimiz değerleri bir demet içinde depolayabiliriz. İsterseniz konumuza demetlerin oluşturulmasıyla başlayalım."
   ]
  },
  {
   "cell_type": "markdown",
   "id": "8e3551d9",
   "metadata": {},
   "source": [
    "# Demet Oluşturma"
   ]
  },
  {
   "cell_type": "code",
   "execution_count": 1,
   "id": "5573b9c7",
   "metadata": {},
   "outputs": [],
   "source": [
    "demet = (1,2,3,4,5,6,7,8,9)"
   ]
  },
  {
   "cell_type": "code",
   "execution_count": 2,
   "id": "cfbfa62f",
   "metadata": {},
   "outputs": [
    {
     "data": {
      "text/plain": [
       "tuple"
      ]
     },
     "execution_count": 2,
     "metadata": {},
     "output_type": "execute_result"
    }
   ],
   "source": [
    "type(demet)"
   ]
  },
  {
   "cell_type": "code",
   "execution_count": 3,
   "id": "40ef13ad",
   "metadata": {},
   "outputs": [
    {
     "data": {
      "text/plain": [
       "6"
      ]
     },
     "execution_count": 3,
     "metadata": {},
     "output_type": "execute_result"
    }
   ],
   "source": [
    "demet[5]"
   ]
  },
  {
   "cell_type": "code",
   "execution_count": 4,
   "id": "33dcfc82",
   "metadata": {},
   "outputs": [
    {
     "data": {
      "text/plain": [
       "9"
      ]
     },
     "execution_count": 4,
     "metadata": {},
     "output_type": "execute_result"
    }
   ],
   "source": [
    "demet[-1]"
   ]
  },
  {
   "cell_type": "code",
   "execution_count": 5,
   "id": "211494cd",
   "metadata": {},
   "outputs": [
    {
     "data": {
      "text/plain": [
       "(1, 2, 3, 4)"
      ]
     },
     "execution_count": 5,
     "metadata": {},
     "output_type": "execute_result"
    }
   ],
   "source": [
    "demet[:4]"
   ]
  },
  {
   "cell_type": "code",
   "execution_count": 6,
   "id": "ee3d847b",
   "metadata": {},
   "outputs": [
    {
     "data": {
      "text/plain": [
       "(9, 8, 7, 6, 5, 4, 3, 2, 1)"
      ]
     },
     "execution_count": 6,
     "metadata": {},
     "output_type": "execute_result"
    }
   ],
   "source": [
    "demet[::-1]"
   ]
  },
  {
   "cell_type": "markdown",
   "id": "d65ea0cd",
   "metadata": {},
   "source": [
    "# Demetlerin Temel Metodları\n",
    "\n",
    "index metoduyla içine verdiğimiz elemanın hangi indekste olduğunu bulabiliriz."
   ]
  },
  {
   "cell_type": "code",
   "execution_count": 36,
   "id": "c27c215e",
   "metadata": {},
   "outputs": [],
   "source": [
    "demet = (1,'m','a',18,1.25)"
   ]
  },
  {
   "cell_type": "code",
   "execution_count": 37,
   "id": "f45a1689",
   "metadata": {},
   "outputs": [
    {
     "data": {
      "text/plain": [
       "0"
      ]
     },
     "execution_count": 37,
     "metadata": {},
     "output_type": "execute_result"
    }
   ],
   "source": [
    "demet.index(1)"
   ]
  },
  {
   "cell_type": "code",
   "execution_count": 38,
   "id": "ce82515b",
   "metadata": {},
   "outputs": [
    {
     "data": {
      "text/plain": [
       "2"
      ]
     },
     "execution_count": 38,
     "metadata": {},
     "output_type": "execute_result"
    }
   ],
   "source": [
    "demet.index('a')"
   ]
  },
  {
   "cell_type": "code",
   "execution_count": 39,
   "id": "e526cac4",
   "metadata": {},
   "outputs": [
    {
     "data": {
      "text/plain": [
       "4"
      ]
     },
     "execution_count": 39,
     "metadata": {},
     "output_type": "execute_result"
    }
   ],
   "source": [
    "demet.index(1.25)"
   ]
  },
  {
   "cell_type": "code",
   "execution_count": null,
   "id": "5fa50ace",
   "metadata": {},
   "outputs": [],
   "source": []
  },
  {
   "cell_type": "raw",
   "id": "b5d38d72",
   "metadata": {},
   "source": [
    "count metoduyla içine verdiğimiz değerin demette kaç defa geçtiğini bulabiliriz."
   ]
  },
  {
   "cell_type": "code",
   "execution_count": null,
   "id": "c1107395",
   "metadata": {},
   "outputs": [],
   "source": []
  },
  {
   "cell_type": "code",
   "execution_count": 7,
   "id": "953964c5",
   "metadata": {},
   "outputs": [],
   "source": [
    "demet2 = (1,1,1,2,2,3,4,5,5,6)"
   ]
  },
  {
   "cell_type": "code",
   "execution_count": 8,
   "id": "18c953cd",
   "metadata": {},
   "outputs": [
    {
     "data": {
      "text/plain": [
       "3"
      ]
     },
     "execution_count": 8,
     "metadata": {},
     "output_type": "execute_result"
    }
   ],
   "source": [
    "demet2.count(1)"
   ]
  },
  {
   "cell_type": "code",
   "execution_count": 9,
   "id": "b8bdde93",
   "metadata": {},
   "outputs": [
    {
     "data": {
      "text/plain": [
       "2"
      ]
     },
     "execution_count": 9,
     "metadata": {},
     "output_type": "execute_result"
    }
   ],
   "source": [
    "demet2.count(5)"
   ]
  },
  {
   "cell_type": "code",
   "execution_count": 10,
   "id": "a7d1e4ef",
   "metadata": {},
   "outputs": [
    {
     "data": {
      "text/plain": [
       "0"
      ]
     },
     "execution_count": 10,
     "metadata": {},
     "output_type": "execute_result"
    }
   ],
   "source": [
    "demet2.count(10)"
   ]
  },
  {
   "cell_type": "markdown",
   "id": "e160f749",
   "metadata": {},
   "source": [
    "# Değiştirilmeme Özelliği\n",
    "\n",
    "Demetlerin değiştirilemez olduğunu artık biliyoruz. İsterseniz bir deneme yapalım."
   ]
  },
  {
   "cell_type": "code",
   "execution_count": 45,
   "id": "9332be6e",
   "metadata": {},
   "outputs": [
    {
     "ename": "TypeError",
     "evalue": "'tuple' object does not support item assignment",
     "output_type": "error",
     "traceback": [
      "\u001b[1;31m---------------------------------------------------------------------------\u001b[0m",
      "\u001b[1;31mTypeError\u001b[0m                                 Traceback (most recent call last)",
      "\u001b[1;32m<ipython-input-45-874177db22c7>\u001b[0m in \u001b[0;36m<module>\u001b[1;34m\u001b[0m\n\u001b[0;32m      2\u001b[0m \u001b[1;33m\u001b[0m\u001b[0m\n\u001b[0;32m      3\u001b[0m \u001b[0mdemet\u001b[0m \u001b[1;33m=\u001b[0m \u001b[1;33m(\u001b[0m\u001b[1;34m\"Elma\"\u001b[0m\u001b[1;33m,\u001b[0m\u001b[1;34m\"Armut\"\u001b[0m\u001b[1;33m,\u001b[0m\u001b[1;34m\"Muz\"\u001b[0m\u001b[1;33m)\u001b[0m\u001b[1;33m\u001b[0m\u001b[1;33m\u001b[0m\u001b[0m\n\u001b[1;32m----> 4\u001b[1;33m \u001b[0mdemet\u001b[0m\u001b[1;33m[\u001b[0m\u001b[1;36m0\u001b[0m\u001b[1;33m]\u001b[0m \u001b[1;33m=\u001b[0m \u001b[1;34m\"Kiraz\"\u001b[0m\u001b[1;33m\u001b[0m\u001b[1;33m\u001b[0m\u001b[0m\n\u001b[0m",
      "\u001b[1;31mTypeError\u001b[0m: 'tuple' object does not support item assignment"
     ]
    }
   ],
   "source": [
    "# Demet oluşturalım.\n",
    "\n",
    "demet = (\"Elma\",\"Armut\",\"Muz\")\n",
    "demet[0] = \"Kiraz\""
   ]
  },
  {
   "cell_type": "markdown",
   "id": "959e2f6d",
   "metadata": {},
   "source": [
    "# Demetleri Ne Zaman Kullanalım ?\n",
    "\n",
    "Aslında Python programcıları demetlerden ziyade listeleri daha çok kullanır. Ancak eğer programınızda değiştirilmesini istemediğiniz bilgiler varsa (Android uygulama sabitleri gibi) bunları demet içinde depolayabilirsiniz. Aynı zamanda, Read Only(Sadece Okuma) bir veritipi olduğu için listelere göre biraz daha hızlı çalışırlar."
   ]
  },
  {
   "cell_type": "code",
   "execution_count": null,
   "id": "12c0d054",
   "metadata": {},
   "outputs": [],
   "source": []
  }
 ],
 "metadata": {
  "kernelspec": {
   "display_name": "Python 3",
   "language": "python",
   "name": "python3"
  },
  "language_info": {
   "codemirror_mode": {
    "name": "ipython",
    "version": 3
   },
   "file_extension": ".py",
   "mimetype": "text/x-python",
   "name": "python",
   "nbconvert_exporter": "python",
   "pygments_lexer": "ipython3",
   "version": "3.8.8"
  }
 },
 "nbformat": 4,
 "nbformat_minor": 5
}
