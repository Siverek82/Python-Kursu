{
 "cells": [
  {
   "cell_type": "markdown",
   "id": "bfe929dc",
   "metadata": {},
   "source": [
    "# Kullanıcıdan Girdi Alma - input() Fonksiyonu\n",
    "\n",
    "Programlama yaparken kullanıcıdan girdi almak oldukça önemlidir. Pythonda kullanıcıdan girdi almamızı sağlayan input() fonksiyonu bulunmaktadır."
   ]
  },
  {
   "cell_type": "markdown",
   "id": "a2d23676",
   "metadata": {},
   "source": [
    "# input() fonksiyonu kullanımı\n",
    "\n",
    "input() fonksiyonu şu şekilde kullanılabilir."
   ]
  },
  {
   "cell_type": "code",
   "execution_count": 9,
   "id": "c48340d8",
   "metadata": {},
   "outputs": [
    {
     "name": "stdout",
     "output_type": "stream",
     "text": [
      "60\n"
     ]
    },
    {
     "data": {
      "text/plain": [
       "'60'"
      ]
     },
     "execution_count": 9,
     "metadata": {},
     "output_type": "execute_result"
    }
   ],
   "source": [
    "#şimdi siz görmüyorsunuz ama ben input() yazdığımda altta bir çubuk çıktı benden değer istedi 60 girdim 60 çıktı\n",
    "input()"
   ]
  },
  {
   "cell_type": "markdown",
   "id": "a874cfcf",
   "metadata": {},
   "source": [
    "Eğer istersek fonksiyonun içine bir değer de gönderebiliriz."
   ]
  },
  {
   "cell_type": "code",
   "execution_count": 11,
   "id": "69bf556f",
   "metadata": {},
   "outputs": [
    {
     "name": "stdout",
     "output_type": "stream",
     "text": [
      "Lütfen bir sayı giriniz:50\n"
     ]
    },
    {
     "data": {
      "text/plain": [
       "'50'"
      ]
     },
     "execution_count": 11,
     "metadata": {},
     "output_type": "execute_result"
    }
   ],
   "source": [
    "input(\"Lütfen bir sayı giriniz:\")"
   ]
  },
  {
   "cell_type": "markdown",
   "id": "a1a796c8",
   "metadata": {},
   "source": [
    "Kullanıcıdan aldığımız değeri input() fonksiyonu yoluyla şu şekilde elde edebiliriz."
   ]
  },
  {
   "cell_type": "code",
   "execution_count": 14,
   "id": "ed536ee8",
   "metadata": {},
   "outputs": [
    {
     "name": "stdout",
     "output_type": "stream",
     "text": [
      "Lütfen bir sayı giriniz:2003\n",
      "Kullanıcının girdiği değer: 2003\n"
     ]
    }
   ],
   "source": [
    "#Kullanıcıdan aldığımız değer a değişkenine eşit olacak.\n",
    "a = input(\"Lütfen bir sayı giriniz:\")\n",
    "#Yani böyle yapmazsak aldığımız değeri ekrana yazdıramayız\n",
    "print(\"Kullanıcının girdiği değer:\",a)"
   ]
  },
  {
   "cell_type": "markdown",
   "id": "20016c7a",
   "metadata": {},
   "source": [
    "Kullanıcının girdiği değer input fonksiyonundan string olarak bize döner."
   ]
  },
  {
   "cell_type": "code",
   "execution_count": 15,
   "id": "9a6bd21f",
   "metadata": {},
   "outputs": [
    {
     "name": "stdout",
     "output_type": "stream",
     "text": [
      "Lütfen bir sayı giriniz:50\n",
      "<class 'str'>\n"
     ]
    }
   ],
   "source": [
    "a = input(\"Lütfen bir sayı giriniz:\")\n",
    "print(type(a))"
   ]
  },
  {
   "cell_type": "markdown",
   "id": "6e1b9f05",
   "metadata": {},
   "source": [
    "Eğer biz bir sayı ile işlem yapacaksak kullanıcıdan aldığımız değere (stringi) float ya da int \n",
    "fonksiyonuyla veri tipi dönüştürme işlemi yapmamız gerekir. Çünkü aşağıdaki gibi bir program yanlış çalışacaktır."
   ]
  },
  {
   "cell_type": "code",
   "execution_count": 17,
   "id": "36af0eeb",
   "metadata": {},
   "outputs": [
    {
     "name": "stdout",
     "output_type": "stream",
     "text": [
      "Lütfen bir sayı giriniz:5\n",
      "555\n"
     ]
    }
   ],
   "source": [
    "# Hatalı Çalışma\n",
    "a = input(\"Lütfen bir sayı giriniz:\")\n",
    "print(a * 3) # Girdiğimiz değer 5 ise sonucu 15 bekleriz. Ancak sonuç 555 şeklinde ortaya çıkar."
   ]
  },
  {
   "cell_type": "code",
   "execution_count": 18,
   "id": "8a0267fe",
   "metadata": {},
   "outputs": [
    {
     "name": "stdout",
     "output_type": "stream",
     "text": [
      "Lütfen bir sayı giriniz:5\n",
      "15\n"
     ]
    }
   ],
   "source": [
    "# Doğru Çalışma\n",
    "a = int(input(\"Lütfen bir sayı giriniz:\")) # Veri tipi dönüşümü\n",
    "print(a * 3) "
   ]
  },
  {
   "cell_type": "markdown",
   "id": "07b683ef",
   "metadata": {},
   "source": [
    "float lı bir örnek"
   ]
  },
  {
   "cell_type": "code",
   "execution_count": 19,
   "id": "d494312e",
   "metadata": {},
   "outputs": [
    {
     "name": "stdout",
     "output_type": "stream",
     "text": [
      "Lütfen bir sayı giriniz:5.4\n",
      "5.45.45.4\n"
     ]
    }
   ],
   "source": [
    "# Hatalı Çalışma\n",
    "a = input(\"Lütfen bir sayı giriniz:\")\n",
    "print(a * 3) # Girdiğimiz değer 5.4 ise sonucu 16.2 bekleriz. Ancak sonuç 5.45.45.4 şeklinde ortaya çıkar."
   ]
  },
  {
   "cell_type": "code",
   "execution_count": 21,
   "id": "f286eb00",
   "metadata": {},
   "outputs": [
    {
     "name": "stdout",
     "output_type": "stream",
     "text": [
      "Lütfen bir sayı giriniz:5.4\n",
      "16.200000000000003\n"
     ]
    }
   ],
   "source": [
    "# Doğru Çalışma\n",
    "a = float(input(\"Lütfen bir sayı giriniz:\"))\n",
    "print(a * 3) # Girdiğimiz değer 5.4 ise sonucu 16.2 bekleriz"
   ]
  },
  {
   "cell_type": "markdown",
   "id": "804dcccf",
   "metadata": {},
   "source": [
    "Bir tane örnek program yazalım."
   ]
  },
  {
   "cell_type": "code",
   "execution_count": 22,
   "id": "bca4193f",
   "metadata": {},
   "outputs": [
    {
     "name": "stdout",
     "output_type": "stream",
     "text": [
      "Birinci Sayı:5\n",
      "İkinci Sayı:10\n",
      "Üçüncü Sayı:15\n",
      "Toplamları: 30\n"
     ]
    }
   ],
   "source": [
    "a = int(input(\"Birinci Sayı:\"))\n",
    "b = int(input(\"İkinci Sayı:\"))\n",
    "c = int(input(\"Üçüncü Sayı:\"))\n",
    "\n",
    "print(\"Toplamları:\",a+b+c)\n"
   ]
  },
  {
   "cell_type": "markdown",
   "id": "59e70cad",
   "metadata": {},
   "source": [
    "Peki kullanıcı eğer yanlış değer girerse ne olacak ?"
   ]
  },
  {
   "cell_type": "code",
   "execution_count": 23,
   "id": "8b7a6c46",
   "metadata": {},
   "outputs": [
    {
     "name": "stdout",
     "output_type": "stream",
     "text": [
      "Sayı giriniz:54554asd\n"
     ]
    },
    {
     "ename": "ValueError",
     "evalue": "invalid literal for int() with base 10: '54554asd'",
     "output_type": "error",
     "traceback": [
      "\u001b[1;31m---------------------------------------------------------------------------\u001b[0m",
      "\u001b[1;31mValueError\u001b[0m                                Traceback (most recent call last)",
      "\u001b[1;32m<ipython-input-23-061ec6ed0ead>\u001b[0m in \u001b[0;36m<module>\u001b[1;34m\u001b[0m\n\u001b[1;32m----> 1\u001b[1;33m \u001b[0ma\u001b[0m \u001b[1;33m=\u001b[0m \u001b[0mint\u001b[0m\u001b[1;33m(\u001b[0m\u001b[0minput\u001b[0m\u001b[1;33m(\u001b[0m\u001b[1;34m\"Sayı giriniz:\"\u001b[0m\u001b[1;33m)\u001b[0m\u001b[1;33m)\u001b[0m \u001b[1;31m# Dönüştüremediğimiz için hataya yol açıldı.\u001b[0m\u001b[1;33m\u001b[0m\u001b[1;33m\u001b[0m\u001b[0m\n\u001b[0m\u001b[0;32m      2\u001b[0m \u001b[0mprint\u001b[0m\u001b[1;33m(\u001b[0m\u001b[0ma\u001b[0m\u001b[1;33m)\u001b[0m\u001b[1;33m\u001b[0m\u001b[1;33m\u001b[0m\u001b[0m\n",
      "\u001b[1;31mValueError\u001b[0m: invalid literal for int() with base 10: '54554asd'"
     ]
    }
   ],
   "source": [
    "a = int(input(\"Sayı giriniz:\")) # Dönüştüremediğimiz için hataya yol açıldı.\n",
    "print(a)"
   ]
  },
  {
   "cell_type": "markdown",
   "id": "2eea8c5b",
   "metadata": {},
   "source": [
    "Böyle sorunları nasıl çözeceğimizi \"Hatalar ve İstisnalar\" bölümünde öğreneceğiz."
   ]
  },
  {
   "cell_type": "code",
   "execution_count": null,
   "id": "d31076a9",
   "metadata": {},
   "outputs": [],
   "source": []
  }
 ],
 "metadata": {
  "kernelspec": {
   "display_name": "Python 3",
   "language": "python",
   "name": "python3"
  },
  "language_info": {
   "codemirror_mode": {
    "name": "ipython",
    "version": 3
   },
   "file_extension": ".py",
   "mimetype": "text/x-python",
   "name": "python",
   "nbconvert_exporter": "python",
   "pygments_lexer": "ipython3",
   "version": "3.8.8"
  }
 },
 "nbformat": 4,
 "nbformat_minor": 5
}
