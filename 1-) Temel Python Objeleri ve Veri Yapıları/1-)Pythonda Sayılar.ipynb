{
 "cells": [
  {
   "cell_type": "markdown",
   "id": "989105cf",
   "metadata": {},
   "source": [
    "# Pythonda Sayılar\n",
    "Bu bölümle birlikte artık Python öğrenmeye başlıyoruz. Pythonda temeli sağlam atmamız için öncelikle veri tipleri ve veri yapılarını öğrenmeliyiz.İsterseniz sayıları öğrenerek maratonumuza başlayalım.\n",
    "\n",
    "Bu bölümde şunları öğreneceğiz.\n",
    "\n",
    "    1. Tamsayı(Integer) ve Ondalıklı Sayı(Float ) Veri tipleri\n",
    "    2. Basit Matematik İşlemleri \n",
    "    3. Değişken Tanımlama\n",
    "Tamsayılar (Integer)\n",
    "Matematikte gördüğümüz tüm sayılar (negatif,pozitif) aslında Python'da bir veri tipidir. Tamsayılar ise ingilizce olarak Integer olarak geçmektedir.\n",
    "\n",
    "Örnek olarak, -1000,34,2,0 gibi sayılar Python'da birer tamsayı(integer) değerleridir.\n",
    "\n",
    "Ondalıklı Sayılar (Float)\n",
    "Tamsayılar gibi Ondalıklı sayılar da bizim matematikte gördüğümüz sayı çeşitlerinden bir tanesidir. Ondalıklı sayılar matematikte olduğu gibi, Pythonda da bir veri tipidir.Ondalıklı Sayılar veya diğer adıyla Kayan Sayılar İngilizce olarak Float olarak geçmektedir.\n",
    "\n",
    "Örnek olarak, 3.14, 3.554546, -13.54 gibi sayılar Python'da birer ondalıklı sayı(float) değerleridir.\n",
    "\n",
    "Şimdi de bu Pythondaki basit matematik işlemlerini öğrenelim.\n",
    "\n",
    "Basit Matematik Operatörleri\n",
    "Basit 4 işlemi (Toplama,Çıkarma,Çarpma,Bölme) hepimiz matematikten biliriz. Şimdi bu işlemlerin Pythonda nasıl yapıldığını görmeye çalışalım."
   ]
  },
  {
   "cell_type": "code",
   "execution_count": 5,
   "id": "5ba062b4",
   "metadata": {},
   "outputs": [
    {
     "data": {
      "text/plain": [
       "14"
      ]
     },
     "execution_count": 5,
     "metadata": {},
     "output_type": "execute_result"
    }
   ],
   "source": [
    "3+4+7"
   ]
  },
  {
   "cell_type": "code",
   "execution_count": 6,
   "id": "cbf507c3",
   "metadata": {},
   "outputs": [
    {
     "data": {
      "text/plain": [
       "0.06873315363881402"
      ]
     },
     "execution_count": 6,
     "metadata": {},
     "output_type": "execute_result"
    }
   ],
   "source": [
    "5.1/14/5.3"
   ]
  },
  {
   "cell_type": "markdown",
   "id": "c74bfd0d",
   "metadata": {},
   "source": [
    "değişken ve değer atama"
   ]
  },
  {
   "cell_type": "code",
   "execution_count": 7,
   "id": "655005e9",
   "metadata": {},
   "outputs": [],
   "source": [
    "emin = 10"
   ]
  },
  {
   "cell_type": "code",
   "execution_count": 8,
   "id": "a9e996e0",
   "metadata": {},
   "outputs": [],
   "source": [
    "ketriz= 15"
   ]
  },
  {
   "cell_type": "code",
   "execution_count": 9,
   "id": "26fe259c",
   "metadata": {},
   "outputs": [
    {
     "data": {
      "text/plain": [
       "25"
      ]
     },
     "execution_count": 9,
     "metadata": {},
     "output_type": "execute_result"
    }
   ],
   "source": [
    "emin+ketriz"
   ]
  },
  {
   "cell_type": "code",
   "execution_count": 10,
   "id": "e079a3e2",
   "metadata": {},
   "outputs": [
    {
     "data": {
      "text/plain": [
       "1010"
      ]
     },
     "execution_count": 10,
     "metadata": {},
     "output_type": "execute_result"
    }
   ],
   "source": [
    "mehmet=1010\n",
    "mehmet"
   ]
  },
  {
   "cell_type": "code",
   "execution_count": 11,
   "id": "cca63b4b",
   "metadata": {},
   "outputs": [],
   "source": [
    "emin=20"
   ]
  },
  {
   "cell_type": "code",
   "execution_count": 12,
   "id": "d97b9a30",
   "metadata": {},
   "outputs": [
    {
     "data": {
      "text/plain": [
       "100"
      ]
     },
     "execution_count": 12,
     "metadata": {},
     "output_type": "execute_result"
    }
   ],
   "source": [
    "ketriz=80\n",
    "emin+ketriz"
   ]
  },
  {
   "cell_type": "code",
   "execution_count": 14,
   "id": "5a62c961",
   "metadata": {},
   "outputs": [
    {
     "data": {
      "text/plain": [
       "100"
      ]
     },
     "execution_count": 14,
     "metadata": {},
     "output_type": "execute_result"
    }
   ],
   "source": [
    "emin+ketriz"
   ]
  },
  {
   "cell_type": "code",
   "execution_count": 25,
   "id": "a3e00825",
   "metadata": {},
   "outputs": [],
   "source": [
    "a = 40\n",
    "b = 70\n",
    "c = 10 * a / 10 * b"
   ]
  },
  {
   "cell_type": "code",
   "execution_count": 26,
   "id": "0523cfb8",
   "metadata": {},
   "outputs": [
    {
     "data": {
      "text/plain": [
       "2800.0"
      ]
     },
     "execution_count": 26,
     "metadata": {},
     "output_type": "execute_result"
    }
   ],
   "source": [
    "c"
   ]
  },
  {
   "cell_type": "markdown",
   "id": "d6876a22",
   "metadata": {},
   "source": [
    "#hatalar\n",
    "1 değişken sayı ile başlayamaz\n",
    "2 değişken birçok kelimeden oluşuyorsa aralarında boşluk olamaz\n",
    "3 _ sembolü hariç semboller kullanılamaz\n",
    "4 pythonda tanımlı kelimeler değişken olarak kullanılamaz ( while for gibi) "
   ]
  },
  {
   "cell_type": "markdown",
   "id": "6111d841",
   "metadata": {},
   "source": [
    "#işlelem yapalım "
   ]
  },
  {
   "cell_type": "markdown",
   "id": "8417411d",
   "metadata": {},
   "source": [
    "#daire çevre"
   ]
  },
  {
   "cell_type": "code",
   "execution_count": 27,
   "id": "b18cfbdb",
   "metadata": {},
   "outputs": [
    {
     "data": {
      "text/plain": [
       "12.56"
      ]
     },
     "execution_count": 27,
     "metadata": {},
     "output_type": "execute_result"
    }
   ],
   "source": [
    "pi_sayısı=3.14\n",
    "çap=4\n",
    "çevre=pi_sayısı*çap\n",
    "çevre"
   ]
  },
  {
   "cell_type": "markdown",
   "id": "4ed1f5c2",
   "metadata": {},
   "source": [
    "#kare alanı"
   ]
  },
  {
   "cell_type": "code",
   "execution_count": 30,
   "id": "7cde3db4",
   "metadata": {},
   "outputs": [
    {
     "data": {
      "text/plain": [
       "225"
      ]
     },
     "execution_count": 30,
     "metadata": {},
     "output_type": "execute_result"
    }
   ],
   "source": [
    "kenar= 15\n",
    "alan=kenar*kenar\n",
    "alan\n",
    "\n"
   ]
  },
  {
   "cell_type": "markdown",
   "id": "50041a37",
   "metadata": {},
   "source": [
    "#değişken yer değiştirme "
   ]
  },
  {
   "cell_type": "code",
   "execution_count": 31,
   "id": "5794957f",
   "metadata": {},
   "outputs": [],
   "source": [
    "a=3\n",
    "b=4"
   ]
  },
  {
   "cell_type": "code",
   "execution_count": 32,
   "id": "93c9336a",
   "metadata": {},
   "outputs": [
    {
     "data": {
      "text/plain": [
       "3"
      ]
     },
     "execution_count": 32,
     "metadata": {},
     "output_type": "execute_result"
    }
   ],
   "source": [
    "a"
   ]
  },
  {
   "cell_type": "code",
   "execution_count": 33,
   "id": "465e26f0",
   "metadata": {},
   "outputs": [
    {
     "data": {
      "text/plain": [
       "4"
      ]
     },
     "execution_count": 33,
     "metadata": {},
     "output_type": "execute_result"
    }
   ],
   "source": [
    "b"
   ]
  },
  {
   "cell_type": "code",
   "execution_count": 34,
   "id": "2517ffd7",
   "metadata": {},
   "outputs": [],
   "source": [
    "a,b=b,a"
   ]
  },
  {
   "cell_type": "code",
   "execution_count": 35,
   "id": "b6e6ffcf",
   "metadata": {},
   "outputs": [
    {
     "data": {
      "text/plain": [
       "4"
      ]
     },
     "execution_count": 35,
     "metadata": {},
     "output_type": "execute_result"
    }
   ],
   "source": [
    "a"
   ]
  },
  {
   "cell_type": "code",
   "execution_count": 36,
   "id": "861e279b",
   "metadata": {},
   "outputs": [
    {
     "data": {
      "text/plain": [
       "3"
      ]
     },
     "execution_count": 36,
     "metadata": {},
     "output_type": "execute_result"
    }
   ],
   "source": [
    "b"
   ]
  },
  {
   "cell_type": "markdown",
   "id": "55197f43",
   "metadata": {},
   "source": [
    "####################################################################################"
   ]
  },
  {
   "cell_type": "code",
   "execution_count": 37,
   "id": "ed2d3cb1",
   "metadata": {},
   "outputs": [],
   "source": [
    "i=5"
   ]
  },
  {
   "cell_type": "code",
   "execution_count": 38,
   "id": "b8266868",
   "metadata": {},
   "outputs": [
    {
     "data": {
      "text/plain": [
       "5"
      ]
     },
     "execution_count": 38,
     "metadata": {},
     "output_type": "execute_result"
    }
   ],
   "source": [
    "i"
   ]
  },
  {
   "cell_type": "code",
   "execution_count": 39,
   "id": "8896f28b",
   "metadata": {},
   "outputs": [],
   "source": [
    "i=i*2"
   ]
  },
  {
   "cell_type": "code",
   "execution_count": 41,
   "id": "f6c4fd2a",
   "metadata": {},
   "outputs": [
    {
     "data": {
      "text/plain": [
       "10"
      ]
     },
     "execution_count": 41,
     "metadata": {},
     "output_type": "execute_result"
    }
   ],
   "source": [
    "i"
   ]
  },
  {
   "cell_type": "code",
   "execution_count": 42,
   "id": "45dedc07",
   "metadata": {},
   "outputs": [],
   "source": [
    "i+=1 "
   ]
  },
  {
   "cell_type": "code",
   "execution_count": 43,
   "id": "95b51587",
   "metadata": {},
   "outputs": [
    {
     "data": {
      "text/plain": [
       "11"
      ]
     },
     "execution_count": 43,
     "metadata": {},
     "output_type": "execute_result"
    }
   ],
   "source": [
    "i"
   ]
  },
  {
   "cell_type": "code",
   "execution_count": 44,
   "id": "29a46c28",
   "metadata": {},
   "outputs": [],
   "source": [
    "#yorum satırı hiçbir şekilde python tarafından okunamaz yazılmaz"
   ]
  },
  {
   "cell_type": "code",
   "execution_count": 45,
   "id": "3d6ed2a1",
   "metadata": {},
   "outputs": [
    {
     "name": "stdout",
     "output_type": "stream",
     "text": [
      "merhaba\n"
     ]
    }
   ],
   "source": [
    "#print kullanımı\n",
    "print('merhaba')"
   ]
  },
  {
   "cell_type": "code",
   "execution_count": null,
   "id": "07b641ce",
   "metadata": {},
   "outputs": [],
   "source": []
  }
 ],
 "metadata": {
  "kernelspec": {
   "display_name": "Python 3",
   "language": "python",
   "name": "python3"
  },
  "language_info": {
   "codemirror_mode": {
    "name": "ipython",
    "version": 3
   },
   "file_extension": ".py",
   "mimetype": "text/x-python",
   "name": "python",
   "nbconvert_exporter": "python",
   "pygments_lexer": "ipython3",
   "version": "3.8.8"
  }
 },
 "nbformat": 4,
 "nbformat_minor": 5
}
