{
 "cells": [
  {
   "cell_type": "markdown",
   "id": "8ed622c7",
   "metadata": {},
   "source": [
    "# Listeler\n",
    "\n",
    "\n",
    "Şimdi de yeni bir veritipimiz olan listeleri öğrenmeye çalışalım. Listeler yapıları gereği stringlere oldukça benzerler ve kullanıldıkları yerler de çok yararlı olan bir veritipidir. Tıpkı stringler gibi ,indekslenirler,parçalanırlar ve üzerinde değişik işlemler yapabildiğimiz metodlar bulunur. Ancak listelerin stringlerden önemli farkları da bulunmaktadır. Stringler konusundan bildiğimiz kadarıyla stringler değiştirilemez bir veri tipidir. Ancak, listelerimiz değiştirilebilir bir veritipidir.\n",
    "\n",
    "Bir listede her veritipinden elemanı saklayabiliriz. Bu anlamda sıralı bir diziye benzer. Peki bu konuda ne öğreneceğiz?\n",
    "Listeler bir [] köşeli parantez içine veriler veya değerler konarak oluşturulabilir.\n",
    "\n",
    "       1.Liste oluşturma\n",
    "       2.Indeksleme ve Parçalama\n",
    "       3.Temel Liste Metodları ve İşlemleri\n",
    "       4.İç içe Listeler "
   ]
  },
  {
   "cell_type": "code",
   "execution_count": 1,
   "id": "dcf26a60",
   "metadata": {},
   "outputs": [],
   "source": [
    "liste = [1744,'SKAL','12-i', 79.36]"
   ]
  },
  {
   "cell_type": "code",
   "execution_count": 2,
   "id": "564925a0",
   "metadata": {},
   "outputs": [
    {
     "data": {
      "text/plain": [
       "list"
      ]
     },
     "execution_count": 2,
     "metadata": {},
     "output_type": "execute_result"
    }
   ],
   "source": [
    "type(liste)"
   ]
  },
  {
   "cell_type": "code",
   "execution_count": 5,
   "id": "de0e5c96",
   "metadata": {},
   "outputs": [],
   "source": [
    "#boş liste\n",
    "liste = []"
   ]
  },
  {
   "cell_type": "code",
   "execution_count": 6,
   "id": "0a1932cf",
   "metadata": {},
   "outputs": [
    {
     "data": {
      "text/plain": [
       "[]"
      ]
     },
     "execution_count": 6,
     "metadata": {},
     "output_type": "execute_result"
    }
   ],
   "source": [
    "liste"
   ]
  },
  {
   "cell_type": "code",
   "execution_count": 7,
   "id": "7984f267",
   "metadata": {},
   "outputs": [],
   "source": [
    "liste2 = [1744,'SKAL','12-i', 79.36]"
   ]
  },
  {
   "cell_type": "code",
   "execution_count": 8,
   "id": "b5eb6c7d",
   "metadata": {},
   "outputs": [
    {
     "data": {
      "text/plain": [
       "4"
      ]
     },
     "execution_count": 8,
     "metadata": {},
     "output_type": "execute_result"
    }
   ],
   "source": [
    "len(liste2)"
   ]
  },
  {
   "cell_type": "code",
   "execution_count": 11,
   "id": "ef51b18f",
   "metadata": {},
   "outputs": [
    {
     "name": "stdout",
     "output_type": "stream",
     "text": [
      "[1744, 'SKAL', '12-i', 79.36]*5\n"
     ]
    }
   ],
   "source": [
    "print(liste2,5,sep = '*' )"
   ]
  },
  {
   "cell_type": "code",
   "execution_count": 15,
   "id": "2b091231",
   "metadata": {},
   "outputs": [
    {
     "data": {
      "text/plain": [
       "['M', 'e', 'r', 'h', 'a', 'b', 'a']"
      ]
     },
     "execution_count": 15,
     "metadata": {},
     "output_type": "execute_result"
    }
   ],
   "source": [
    "list('Merhaba')"
   ]
  },
  {
   "cell_type": "markdown",
   "id": "bf02a035",
   "metadata": {},
   "source": [
    "# Listeleri Indeksleme ve Parçalama\n",
    "\n",
    "Listeleri indeksleme ve parçalama stringlerle birebir olarak aynıdır."
   ]
  },
  {
   "cell_type": "code",
   "execution_count": 29,
   "id": "3deeee0e",
   "metadata": {},
   "outputs": [],
   "source": [
    "liste = (1,2,3,4,5,6,7,8,9,'a','b','c','d','e','f','g')"
   ]
  },
  {
   "cell_type": "code",
   "execution_count": 30,
   "id": "c03b03b2",
   "metadata": {},
   "outputs": [
    {
     "data": {
      "text/plain": [
       "6"
      ]
     },
     "execution_count": 30,
     "metadata": {},
     "output_type": "execute_result"
    }
   ],
   "source": [
    "liste[5]"
   ]
  },
  {
   "cell_type": "code",
   "execution_count": 34,
   "id": "2b7772f9",
   "metadata": {},
   "outputs": [
    {
     "data": {
      "text/plain": [
       "(3, 4, 5, 6, 7, 8, 9, 'a')"
      ]
     },
     "execution_count": 34,
     "metadata": {},
     "output_type": "execute_result"
    }
   ],
   "source": [
    "liste[2:10]"
   ]
  },
  {
   "cell_type": "code",
   "execution_count": 28,
   "id": "4475d749",
   "metadata": {},
   "outputs": [
    {
     "data": {
      "text/plain": [
       "'g'"
      ]
     },
     "execution_count": 28,
     "metadata": {},
     "output_type": "execute_result"
    }
   ],
   "source": [
    "liste  [-1]"
   ]
  },
  {
   "cell_type": "code",
   "execution_count": 20,
   "id": "8de394e8",
   "metadata": {},
   "outputs": [
    {
     "data": {
      "text/plain": [
       "16"
      ]
     },
     "execution_count": 20,
     "metadata": {},
     "output_type": "execute_result"
    }
   ],
   "source": [
    "len(liste)"
   ]
  },
  {
   "cell_type": "code",
   "execution_count": 22,
   "id": "5a22610c",
   "metadata": {},
   "outputs": [
    {
     "data": {
      "text/plain": [
       "(3, 6, 9)"
      ]
     },
     "execution_count": 22,
     "metadata": {},
     "output_type": "execute_result"
    }
   ],
   "source": [
    "liste[2:10:3]"
   ]
  },
  {
   "cell_type": "code",
   "execution_count": 25,
   "id": "4b1bd262",
   "metadata": {},
   "outputs": [
    {
     "data": {
      "text/plain": [
       "(1, 3, 5, 7, 9)"
      ]
     },
     "execution_count": 25,
     "metadata": {},
     "output_type": "execute_result"
    }
   ],
   "source": [
    "liste[:9:2]"
   ]
  },
  {
   "cell_type": "code",
   "execution_count": 37,
   "id": "b9f002cc",
   "metadata": {},
   "outputs": [
    {
     "data": {
      "text/plain": [
       "16"
      ]
     },
     "execution_count": 37,
     "metadata": {},
     "output_type": "execute_result"
    }
   ],
   "source": [
    "#sondaki elemana ulaşma\n",
    "len(liste)"
   ]
  },
  {
   "cell_type": "code",
   "execution_count": 38,
   "id": "eac96ed8",
   "metadata": {},
   "outputs": [
    {
     "data": {
      "text/plain": [
       "'g'"
      ]
     },
     "execution_count": 38,
     "metadata": {},
     "output_type": "execute_result"
    }
   ],
   "source": [
    "liste[len(liste)-1]"
   ]
  },
  {
   "cell_type": "code",
   "execution_count": 39,
   "id": "d7f14082",
   "metadata": {},
   "outputs": [
    {
     "data": {
      "text/plain": [
       "'g'"
      ]
     },
     "execution_count": 39,
     "metadata": {},
     "output_type": "execute_result"
    }
   ],
   "source": [
    "liste[15]"
   ]
  },
  {
   "cell_type": "code",
   "execution_count": 41,
   "id": "b3c233fb",
   "metadata": {},
   "outputs": [
    {
     "data": {
      "text/plain": [
       "('g', 'f', 'e', 'd', 'c', 'b', 'a', 9, 8, 7, 6, 5, 4, 3, 2, 1)"
      ]
     },
     "execution_count": 41,
     "metadata": {},
     "output_type": "execute_result"
    }
   ],
   "source": [
    "liste[::-1] #terten yazıyor"
   ]
  },
  {
   "cell_type": "markdown",
   "id": "7598f1d7",
   "metadata": {},
   "source": [
    "# Temel Liste Metodları ve İşlemleri\n",
    "\n",
    "Bu kısımda da listelerde yapabileceğimiz temel işlemleri ve bazı temel metodları öğreneceğiz. Listelerin daha bir çok metodunu kursun ileriki kısımlarında görüyor olacağız.\n",
    "\n",
    "Bir listeyi birbirine toplama işlemini stringlerdeki gibi yapabiliriz."
   ]
  },
  {
   "cell_type": "code",
   "execution_count": 42,
   "id": "98690fe2",
   "metadata": {},
   "outputs": [
    {
     "data": {
      "text/plain": [
       "[1, 2, 3, 'a', 'b', 'c']"
      ]
     },
     "execution_count": 42,
     "metadata": {},
     "output_type": "execute_result"
    }
   ],
   "source": [
    "liste=[1,2,3]\n",
    "liste1=['a','b','c']\n",
    "liste+liste1"
   ]
  },
  {
   "cell_type": "code",
   "execution_count": 44,
   "id": "d3118be6",
   "metadata": {},
   "outputs": [
    {
     "name": "stdout",
     "output_type": "stream",
     "text": [
      "[1, 2, 3, 'a', 'b', 'c']\n"
     ]
    }
   ],
   "source": [
    "liste=[1,2,3]\n",
    "liste1=['a','b','c']\n",
    "print(liste+liste1)"
   ]
  },
  {
   "cell_type": "code",
   "execution_count": 49,
   "id": "84d8a21c",
   "metadata": {},
   "outputs": [
    {
     "data": {
      "text/plain": [
       "['Emin', 'a', 'b', 'c']"
      ]
     },
     "execution_count": 49,
     "metadata": {},
     "output_type": "execute_result"
    }
   ],
   "source": [
    "liste1=['a','b','c']\n",
    "['Emin']+liste1\n",
    "#'Emin'+liste1 böyle olmaz"
   ]
  },
  {
   "cell_type": "code",
   "execution_count": 50,
   "id": "aeaf6965",
   "metadata": {},
   "outputs": [
    {
     "data": {
      "text/plain": [
       "['a', 'b', 'c', 'a', 'b', 'c']"
      ]
     },
     "execution_count": 50,
     "metadata": {},
     "output_type": "execute_result"
    }
   ],
   "source": [
    "liste1*2"
   ]
  },
  {
   "cell_type": "code",
   "execution_count": 51,
   "id": "762aee39",
   "metadata": {},
   "outputs": [
    {
     "data": {
      "text/plain": [
       "['a', 'b', 'c']"
      ]
     },
     "execution_count": 51,
     "metadata": {},
     "output_type": "execute_result"
    }
   ],
   "source": [
    "liste1\n",
    "#liste değişmedi değiştirmek için "
   ]
  },
  {
   "cell_type": "code",
   "execution_count": 53,
   "id": "016e9b58",
   "metadata": {},
   "outputs": [
    {
     "data": {
      "text/plain": [
       "['a', 'b', 'c', 'a', 'b', 'c', 'a', 'b', 'c', 'a', 'b', 'c']"
      ]
     },
     "execution_count": 53,
     "metadata": {},
     "output_type": "execute_result"
    }
   ],
   "source": [
    "liste1=liste1*2\n",
    "liste1\n",
    "#şimdi değişti"
   ]
  },
  {
   "cell_type": "code",
   "execution_count": 54,
   "id": "57bb0592",
   "metadata": {},
   "outputs": [
    {
     "data": {
      "text/plain": [
       "['a', 'b', 'c', 'a', 'b', 'c', 'a', 'b', 'c', 'a', 'b', 'c']"
      ]
     },
     "execution_count": 54,
     "metadata": {},
     "output_type": "execute_result"
    }
   ],
   "source": [
    "liste1"
   ]
  },
  {
   "cell_type": "code",
   "execution_count": 56,
   "id": "e441e669",
   "metadata": {},
   "outputs": [
    {
     "data": {
      "text/plain": [
       "['a', 'b', 'c', 'değişti', 'b', 'c', 'a', 'b', 'c', 'a', 'b', 'c']"
      ]
     },
     "execution_count": 56,
     "metadata": {},
     "output_type": "execute_result"
    }
   ],
   "source": [
    "#listeler direk değiştirilebilir\n",
    "liste1[3] = 'değişti'\n",
    "liste1"
   ]
  },
  {
   "cell_type": "code",
   "execution_count": 58,
   "id": "16b3c22c",
   "metadata": {},
   "outputs": [],
   "source": [
    "#ilk iki elemanı değiştirmek\n",
    "liste1[:2] = 'buda','değişti'"
   ]
  },
  {
   "cell_type": "code",
   "execution_count": 59,
   "id": "f48c1f74",
   "metadata": {},
   "outputs": [
    {
     "data": {
      "text/plain": [
       "['buda', 'değişti', 'c', 'değişti', 'b', 'c', 'a', 'b', 'c', 'a', 'b', 'c']"
      ]
     },
     "execution_count": 59,
     "metadata": {},
     "output_type": "execute_result"
    }
   ],
   "source": [
    "liste1"
   ]
  },
  {
   "cell_type": "code",
   "execution_count": 62,
   "id": "78dbefa9",
   "metadata": {},
   "outputs": [
    {
     "ename": "SyntaxError",
     "evalue": "invalid syntax (<ipython-input-62-62a9a3f05763>, line 1)",
     "output_type": "error",
     "traceback": [
      "\u001b[1;36m  File \u001b[1;32m\"<ipython-input-62-62a9a3f05763>\"\u001b[1;36m, line \u001b[1;32m1\u001b[0m\n\u001b[1;33m    liste1[:2],[3:6]= ['ş','x'],['r','t','l','u']\u001b[0m\n\u001b[1;37m                 ^\u001b[0m\n\u001b[1;31mSyntaxError\u001b[0m\u001b[1;31m:\u001b[0m invalid syntax\n"
     ]
    }
   ],
   "source": [
    "liste1[:2],[3:6] = ['ş','x'],['r','t','l','u']"
   ]
  },
  {
   "cell_type": "markdown",
   "id": "d04711dd",
   "metadata": {},
   "source": [
    "# append metodu\n",
    "\n",
    "append metodu, verdiğimiz değeri listeye eklememizi sağlar."
   ]
  },
  {
   "cell_type": "code",
   "execution_count": 87,
   "id": "a92aeb60",
   "metadata": {},
   "outputs": [
    {
     "data": {
      "text/plain": [
       "[1, 3, 2]"
      ]
     },
     "execution_count": 87,
     "metadata": {},
     "output_type": "execute_result"
    }
   ],
   "source": [
    "liste = [1,3]\n",
    "liste.append(2)\n",
    "liste"
   ]
  },
  {
   "cell_type": "code",
   "execution_count": 88,
   "id": "eeee3ab2",
   "metadata": {},
   "outputs": [],
   "source": [
    "liste1=[4,5,6]\n",
    "liste.append(liste1)\n",
    "#listeye liste ekleme"
   ]
  },
  {
   "cell_type": "code",
   "execution_count": 89,
   "id": "3bde9b29",
   "metadata": {},
   "outputs": [
    {
     "data": {
      "text/plain": [
       "[1, 3, 2, [4, 5, 6]]"
      ]
     },
     "execution_count": 89,
     "metadata": {},
     "output_type": "execute_result"
    }
   ],
   "source": [
    "liste"
   ]
  },
  {
   "cell_type": "markdown",
   "id": "0208fa11",
   "metadata": {},
   "source": [
    "# pop metodu\n",
    "\n",
    "Bu metod, içine değer vermezsek listenin son indeksindeki elemanı, değer verirsek verdiğimiz değere karşılık gelen indeksteki elemanı listeden atar ve attığı elemanı ekrana basar."
   ]
  },
  {
   "cell_type": "code",
   "execution_count": 90,
   "id": "8fff766c",
   "metadata": {},
   "outputs": [
    {
     "data": {
      "text/plain": [
       "[1, 3, 2, [4, 5, 6]]"
      ]
     },
     "execution_count": 90,
     "metadata": {},
     "output_type": "execute_result"
    }
   ],
   "source": [
    "liste"
   ]
  },
  {
   "cell_type": "code",
   "execution_count": 91,
   "id": "f3e30721",
   "metadata": {},
   "outputs": [
    {
     "data": {
      "text/plain": [
       "3"
      ]
     },
     "execution_count": 91,
     "metadata": {},
     "output_type": "execute_result"
    }
   ],
   "source": [
    "liste.pop(1)"
   ]
  },
  {
   "cell_type": "code",
   "execution_count": 92,
   "id": "35b98b43",
   "metadata": {},
   "outputs": [
    {
     "data": {
      "text/plain": [
       "[1, 2, [4, 5, 6]]"
      ]
     },
     "execution_count": 92,
     "metadata": {},
     "output_type": "execute_result"
    }
   ],
   "source": [
    "liste"
   ]
  },
  {
   "cell_type": "code",
   "execution_count": 93,
   "id": "9d0bb747",
   "metadata": {},
   "outputs": [
    {
     "data": {
      "text/plain": [
       "[4, 5, 6]"
      ]
     },
     "execution_count": 93,
     "metadata": {},
     "output_type": "execute_result"
    }
   ],
   "source": [
    "liste.pop()\n",
    "#üç tane atmsının sebebi daha önceden liste1 eklemiştik ondan"
   ]
  },
  {
   "cell_type": "code",
   "execution_count": 94,
   "id": "4191a0cc",
   "metadata": {},
   "outputs": [
    {
     "data": {
      "text/plain": [
       "[1, 2]"
      ]
     },
     "execution_count": 94,
     "metadata": {},
     "output_type": "execute_result"
    }
   ],
   "source": [
    "liste"
   ]
  },
  {
   "cell_type": "markdown",
   "id": "63ad4260",
   "metadata": {},
   "source": [
    "# sort metodu\n",
    "\n",
    "sort metodu listenin elemanlarını sıralamamızı sağlar. Hemen kullanımına bakalım."
   ]
  },
  {
   "cell_type": "code",
   "execution_count": 95,
   "id": "827360fb",
   "metadata": {},
   "outputs": [],
   "source": [
    "liste= [1,5,6,8,4,1,3,9,7,2]"
   ]
  },
  {
   "cell_type": "code",
   "execution_count": 97,
   "id": "a4d5aaec",
   "metadata": {},
   "outputs": [],
   "source": [
    "liste.sort() #küçükten büyüğe"
   ]
  },
  {
   "cell_type": "code",
   "execution_count": 98,
   "id": "5483e167",
   "metadata": {},
   "outputs": [
    {
     "data": {
      "text/plain": [
       "[1, 1, 2, 3, 4, 5, 6, 7, 8, 9]"
      ]
     },
     "execution_count": 98,
     "metadata": {},
     "output_type": "execute_result"
    }
   ],
   "source": [
    "liste"
   ]
  },
  {
   "cell_type": "code",
   "execution_count": 109,
   "id": "afe62a37",
   "metadata": {},
   "outputs": [],
   "source": [
    "liste.sort(reverse = True) #büyükten küçüğe"
   ]
  },
  {
   "cell_type": "code",
   "execution_count": 110,
   "id": "06c7b22b",
   "metadata": {},
   "outputs": [
    {
     "data": {
      "text/plain": [
       "['Yunus', 'Merve', 'Mehmet Emin', 'Mehmet', 'Enes', 'Büşra', 'Asiye']"
      ]
     },
     "execution_count": 110,
     "metadata": {},
     "output_type": "execute_result"
    }
   ],
   "source": [
    "liste"
   ]
  },
  {
   "cell_type": "code",
   "execution_count": 111,
   "id": "18bc0845",
   "metadata": {},
   "outputs": [],
   "source": [
    "liste=['Mehmet','Asiye','Mehmet Emin', 'Enes','Yunus','Merve', 'Büşra']"
   ]
  },
  {
   "cell_type": "code",
   "execution_count": 112,
   "id": "b352ca68",
   "metadata": {},
   "outputs": [],
   "source": [
    "liste.sort() #alfabetik sırlama"
   ]
  },
  {
   "cell_type": "code",
   "execution_count": 113,
   "id": "270730e6",
   "metadata": {},
   "outputs": [
    {
     "data": {
      "text/plain": [
       "['Asiye', 'Büşra', 'Enes', 'Mehmet', 'Mehmet Emin', 'Merve', 'Yunus']"
      ]
     },
     "execution_count": 113,
     "metadata": {},
     "output_type": "execute_result"
    }
   ],
   "source": [
    "liste"
   ]
  },
  {
   "cell_type": "code",
   "execution_count": 114,
   "id": "4e2f3da4",
   "metadata": {},
   "outputs": [],
   "source": [
    "liste.sort(reverse = True) #ters alfabetik"
   ]
  },
  {
   "cell_type": "code",
   "execution_count": 115,
   "id": "800b1981",
   "metadata": {},
   "outputs": [
    {
     "data": {
      "text/plain": [
       "['Yunus', 'Merve', 'Mehmet Emin', 'Mehmet', 'Enes', 'Büşra', 'Asiye']"
      ]
     },
     "execution_count": 115,
     "metadata": {},
     "output_type": "execute_result"
    }
   ],
   "source": [
    "liste"
   ]
  },
  {
   "cell_type": "markdown",
   "id": "a38c1589",
   "metadata": {},
   "source": [
    "# İç içe Listeler\n",
    "\n",
    "Bir listenin içinde başka bir liste bulundurmak mümkündür. Bunlara Pythonda içiçe listeler denmektedir. Bu tip bir özellik, Pythonda ağaç yapılarında veya matris yapılarında oldukça kullanışlı olmaktadır."
   ]
  },
  {
   "cell_type": "code",
   "execution_count": 118,
   "id": "5636591c",
   "metadata": {},
   "outputs": [],
   "source": [
    "liste = [[1,2],[3,4],[5,6]]\n",
    "# listeler arası , unutma"
   ]
  },
  {
   "cell_type": "code",
   "execution_count": 119,
   "id": "c158f177",
   "metadata": {},
   "outputs": [
    {
     "data": {
      "text/plain": [
       "[[1, 2], [3, 4], [5, 6]]"
      ]
     },
     "execution_count": 119,
     "metadata": {},
     "output_type": "execute_result"
    }
   ],
   "source": [
    "liste"
   ]
  },
  {
   "cell_type": "code",
   "execution_count": 120,
   "id": "19b3bdc9",
   "metadata": {},
   "outputs": [
    {
     "data": {
      "text/plain": [
       "[3, 4]"
      ]
     },
     "execution_count": 120,
     "metadata": {},
     "output_type": "execute_result"
    }
   ],
   "source": [
    "liste[1]"
   ]
  },
  {
   "cell_type": "code",
   "execution_count": 121,
   "id": "ba0b4c03",
   "metadata": {},
   "outputs": [
    {
     "data": {
      "text/plain": [
       "4"
      ]
     },
     "execution_count": 121,
     "metadata": {},
     "output_type": "execute_result"
    }
   ],
   "source": [
    "liste[1][1]"
   ]
  },
  {
   "cell_type": "code",
   "execution_count": null,
   "id": "9c248d3e",
   "metadata": {},
   "outputs": [],
   "source": []
  }
 ],
 "metadata": {
  "kernelspec": {
   "display_name": "Python 3",
   "language": "python",
   "name": "python3"
  },
  "language_info": {
   "codemirror_mode": {
    "name": "ipython",
    "version": 3
   },
   "file_extension": ".py",
   "mimetype": "text/x-python",
   "name": "python",
   "nbconvert_exporter": "python",
   "pygments_lexer": "ipython3",
   "version": "3.8.8"
  }
 },
 "nbformat": 4,
 "nbformat_minor": 5
}
