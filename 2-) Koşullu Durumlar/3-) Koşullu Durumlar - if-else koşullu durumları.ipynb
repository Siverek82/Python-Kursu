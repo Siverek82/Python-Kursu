{
 "cells": [
  {
   "cell_type": "markdown",
   "id": "8023e40d",
   "metadata": {},
   "source": [
    "# Koşullu Durumlar - if-else koşullu durumları\n",
    "Şimdiye kadar Pythondaki temel veritiplerini öğrendik ve gerekli temelleri aldık. Artık bundan sonra çok daha eğlenceli konular göreceğiz ve elle tutulur programlar yazmaya başlayacağız. Bu konuda ilk olarak Python programlarının çalışma mantığını göreceğiz ve daha sonrasında koşullu durumları anlamaya çalışacağız."
   ]
  },
  {
   "cell_type": "markdown",
   "id": "24e7ed55",
   "metadata": {},
   "source": [
    "### Python Programlarının çalışma mantığı\n",
    "\n",
    "Python programları çalışmaya başladığı zaman kodlarımız yukardan başlayarak teker teker çalıştırılır ve çalıştıracak kod kalmayınca programımız sona erer. Şöyle bir örneği düşünelim;"
   ]
  },
  {
   "cell_type": "code",
   "execution_count": 1,
   "id": "f06eac6c",
   "metadata": {},
   "outputs": [
    {
     "name": "stdout",
     "output_type": "stream",
     "text": [
      "9\n"
     ]
    }
   ],
   "source": [
    "a = 2\n",
    "b = 3\n",
    "c = 4\n",
    "print(a+b+c)"
   ]
  },
  {
   "cell_type": "markdown",
   "id": "647987cf",
   "metadata": {},
   "source": [
    "Yukarıdaki basit kodda program teker teker her bir satırı ve ifadeyi çalıştırır ve çalıştıracak kod kalmayınca program sona erer.Ancak Python'da her program bu kadar basit olmayabilir. Çoğu zaman Python programlarımız belirli bloklardan oluşur ve bu bloklar her zaman çalışmak zorunda olmaz.Peki bu bloklar nasıl tanımlanır ? Pythonda bir blok tanımlama işlemi **Girintiler** sayesinde olmaktadır. Örnek olması açısından, Pythonda bloklar şu şekilde oluşabilir."
   ]
  },
  {
   "cell_type": "code",
   "execution_count": 3,
   "id": "bdc0af4e",
   "metadata": {},
   "outputs": [
    {
     "name": "stdout",
     "output_type": "stream",
     "text": [
      "2\n",
      "Merhaba\n"
     ]
    }
   ],
   "source": [
    "a = 2 # Blok 1 'e ait kod\n",
    "\n",
    "if (a == 2):\n",
    "    print(a) # Blok 2'ye ait kod\n",
    "print(\"Merhaba\") # Blok 1 ' ait kod\n",
    "\n",
    "#yani en soldaki 1. blok biraz daha içerdeki 2. blok böyle böyle bloklar devem ediyor. 3. blok biraz daha içeride olurdu."
   ]
  },
  {
   "cell_type": "markdown",
   "id": "116ef239",
   "metadata": {},
   "source": [
    "Dikkat ederseniz burada daha önce görmediğimiz bir şey yaptık ve **if** in bulunduğu satırdan sonraki **print** işlemini bir tab kadar girintili yazdık. Burada gördüğümüz gibi, **girintiler(tab)** Pythonda bir blok oluşturmak için kullanılıyor ve her bloğunun çalıştırılması gerekmiyor. Mesela yukarıda gördüğümüz kodda **2 print** işlemi de çalıştı. Ancak kodumuzu şu şekilde yazsaydık, ilk **print** işlemi çalışmayacaktı."
   ]
  },
  {
   "cell_type": "code",
   "execution_count": 6,
   "id": "63bc3062",
   "metadata": {},
   "outputs": [
    {
     "name": "stdout",
     "output_type": "stream",
     "text": [
      "Merhaba\n"
     ]
    }
   ],
   "source": [
    "a = 2 # Blok 1 'e ait kod\n",
    "\n",
    "if (a == 3):\n",
    "    print(a) # Blok 2'ye ait kod\n",
    "print(\"Merhaba\") # Blok 1 ' ait kod\n",
    "\n",
    "# a değişkeni normalde 2 ama biz burda a = 3 ise a yı yazdır demişiz. a da 3 olmadığı için a yı yazdırmamış"
   ]
  },
  {
   "cell_type": "markdown",
   "id": "7f07ad9c",
   "metadata": {},
   "source": [
    "Buradaki blok tanımlama işlemlerimiz bundan sonra sürekli karşımıza çıkacak. Eğer henüz anlamadıysanız zamanla anladığınızı göreceksiniz."
   ]
  },
  {
   "cell_type": "markdown",
   "id": "56a55463",
   "metadata": {},
   "source": [
    "# Koşullu Durumlar"
   ]
  },
  {
   "cell_type": "markdown",
   "id": "e98c6adc",
   "metadata": {},
   "source": [
    "Artık Pythonda bizi bir ileri seviyeye taşıyacak koşullu durumları öğrenmenin vakti geldi.\n",
    "\n",
    "Koşullu durumlar aslında günlük yaşamda sürekli karşılaştığımız durumlardır. Örneğin havanın yağmurlu olma koşuluna göre şemsiyemizi alırız veya uykumuzun gelme koşuluna göre uyuruz. Aslında programlamada da birçok koşullu durumla karşılaşırız. Örneğin , belli koşullara göre belli işlemleri yaparız , belli koşullara göre yapmayız. İşte bunlar koşullu durumların temeli oluşturur. İsterseniz koşullu durumları yazmaya **if** blokları ile başlayalım."
   ]
  },
  {
   "cell_type": "markdown",
   "id": "2ffdeb06",
   "metadata": {},
   "source": [
    "### if Bloğu\n",
    "\n",
    "if bloğu programımızın içinde herhangi bir yerde belli bir koşulu kontrol edecek isek kullanılan bloklardır.Yazımı şu şekildedir;\n",
    "\n",
    "           if (koşul): \n",
    "               # if bloğu - Koşul sağlanınca (True) çalışır. Bu hizadaki her işlem bu if bloğuna ait.\n",
    "               # if bloğu - Girintiyle oluşturulur.\n",
    "               Yapılacak İşlemler\n",
    "               \n",
    "**if bloğu** *eğer koşul sağlanırsa anlamı taşır*. Eğer if kalıbındaki koşul sağlanırsa (True) if bloğu çalıştırılır, koşul sağlanmazsa (False) if bloğu çalıştırılmaz.\n",
    "            \n",
    "Hemen bir örnek ile koşullu durumları anlamaya çalışalım.        "
   ]
  },
  {
   "cell_type": "code",
   "execution_count": 8,
   "id": "0750b84e",
   "metadata": {},
   "outputs": [
    {
     "name": "stdout",
     "output_type": "stream",
     "text": [
      "Yaşınızı giriniz:15\n",
      "Bu mekana giremezsiniz.\n"
     ]
    }
   ],
   "source": [
    "# 18 yaş kontrolü\n",
    "yaş = int(input(\"Yaşınızı giriniz:\"))\n",
    "\n",
    "if (yaş < 18):\n",
    "    # if bloğu -  Girinti ile sağlanıyor.\n",
    "    print(\"Bu mekana giremezsiniz.\")\n",
    "    \n",
    "# faka tburda bir eksik var ya yaşımız 18 den büyükse, işte bunun sağlandığı durumlar için de else bloğunu kullanıyoruz."
   ]
  },
  {
   "cell_type": "markdown",
   "id": "c9498430",
   "metadata": {},
   "source": [
    "Burada istediğimizi elde edemedik çünkü 2. print işlemi herhangi bir koşula bağlı değil. O yüzden 2.print işlemi her durumda çalışıyor. Peki if koşulu sağlanmadığında belli bir işlemin çalışmasını nasıl sağlayacağız ? Bunun için sıradaki kalıbımızı öğrenelim."
   ]
  },
  {
   "cell_type": "markdown",
   "id": "8bf09005",
   "metadata": {},
   "source": [
    "#### else Bloğu\n",
    "\n",
    "else blokları  **if koşulu ** sağlanmadığı zaman (False) çalışan bloklardır. Kullanımı şu şekildedir;\n",
    "            \n",
    "\n",
    "           else:\n",
    "               # else bloğu - Yukarısındaki herhangi bir if bloğu (veya ilerde göreceğimiz elif bloğu) çalışmadığı\n",
    "               # zaman çalışır. \n",
    "               # else bloğu - Girintiyle oluşturulur.\n",
    "                   Yapılacak İşlemler\n",
    "               \n",
    "Dikkat ederseniz burada **else** koşulunun yanına herhangi bir koşul yazmadık. Çünkü zaten **else** bloğunun çalışması ondan önce gelen diğer koşulların sağlanmamasına bağlı oluyor. İsterseniz, **18 yaş kontrolü** örneğini **else** bloğunu dahil ederek tekrar yazalım."
   ]
  },
  {
   "cell_type": "code",
   "execution_count": 15,
   "id": "64bc3a85",
   "metadata": {},
   "outputs": [
    {
     "name": "stdout",
     "output_type": "stream",
     "text": [
      "Yaşınızı giriniz:21\n",
      "girebilirsiniz\n"
     ]
    }
   ],
   "source": [
    "# 18 yaş kontrolü\n",
    "yaş = int(input(\"Yaşınızı giriniz:\"))\n",
    "\n",
    "if (yaş < 18):\n",
    "    # if bloğu -  Girinti ile sağlanıyor.\n",
    "    print(\"Bu mekana giremezsiniz.\")\n",
    "else:\n",
    "    print('girebilirsiniz')\n",
    "    \n",
    "# else nin yanına bir koşul bağlamaya gerek yok çünkü zaten else koşul sağlanmadığında çalışır."
   ]
  },
  {
   "cell_type": "code",
   "execution_count": 16,
   "id": "ff6dc759",
   "metadata": {},
   "outputs": [
    {
     "name": "stdout",
     "output_type": "stream",
     "text": [
      "Sayıyı giriniz:5\n",
      "sıfır veya pozitif sayı \n"
     ]
    }
   ],
   "source": [
    "# Negatif mi değil mi ?\n",
    "sayı = int (input(\"Sayıyı giriniz:\"))\n",
    "\n",
    "if (sayı < 0):\n",
    "    print(\"Negatif Sayı\")\n",
    "else:\n",
    "    print(\"sıfır veya pozitif sayı \")"
   ]
  },
  {
   "cell_type": "code",
   "execution_count": 17,
   "id": "3d554413",
   "metadata": {},
   "outputs": [
    {
     "name": "stdout",
     "output_type": "stream",
     "text": [
      "Sayıyı giriniz:-8\n",
      "Negatif Sayı\n"
     ]
    }
   ],
   "source": [
    "# Negatif mi değil mi ?\n",
    "sayı = int (input(\"Sayıyı giriniz:\"))\n",
    "\n",
    "if (sayı < 0):\n",
    "    print(\"Negatif Sayı\")\n",
    "else:\n",
    "    print(\"sıfır veya pozitif sayı \")"
   ]
  },
  {
   "cell_type": "code",
   "execution_count": 18,
   "id": "bb903b38",
   "metadata": {},
   "outputs": [
    {
     "name": "stdout",
     "output_type": "stream",
     "text": [
      "Sayıyı giriniz:0\n",
      "sıfır\n"
     ]
    }
   ],
   "source": [
    "# daha da gelişmişi\n",
    "sayı = int (input(\"Sayıyı giriniz:\"))\n",
    "\n",
    "if (sayı < 0):\n",
    "    print(\"Negatif Sayı\")\n",
    "elif sayı == 0: # elif te başka bir blok\n",
    "    print('sıfır')\n",
    "else:\n",
    "    print(\"pozitif sayı \")\n"
   ]
  },
  {
   "cell_type": "code",
   "execution_count": 19,
   "id": "a317d1d7",
   "metadata": {},
   "outputs": [
    {
     "name": "stdout",
     "output_type": "stream",
     "text": [
      "Sayıyı giriniz:85\n",
      "pozitif sayı \n"
     ]
    }
   ],
   "source": [
    "# daha da gelişmişi\n",
    "sayı = int (input(\"Sayıyı giriniz:\"))\n",
    "\n",
    "if (sayı < 0):\n",
    "    print(\"Negatif Sayı\")\n",
    "elif sayı == 0:\n",
    "    print('sıfır')\n",
    "else:\n",
    "    print(\"pozitif sayı \")"
   ]
  },
  {
   "cell_type": "markdown",
   "id": "c299619e",
   "metadata": {},
   "source": [
    "şte koşullu durumların aslında mantığı tamamıyla bu kadar ! Konuyu bitirmeden önce aşağıdaki kodu çalıştıralım."
   ]
  },
  {
   "cell_type": "code",
   "execution_count": 20,
   "id": "d5443891",
   "metadata": {},
   "outputs": [
    {
     "ename": "SyntaxError",
     "evalue": "invalid syntax (Temp/ipykernel_6996/502107600.py, line 1)",
     "output_type": "error",
     "traceback": [
      "\u001b[1;36m  File \u001b[1;32m\"C:\\Users\\MEHMET~1\\AppData\\Local\\Temp/ipykernel_6996/502107600.py\"\u001b[1;36m, line \u001b[1;32m1\u001b[0m\n\u001b[1;33m    else:\u001b[0m\n\u001b[1;37m    ^\u001b[0m\n\u001b[1;31mSyntaxError\u001b[0m\u001b[1;31m:\u001b[0m invalid syntax\n"
     ]
    }
   ],
   "source": [
    "else:\n",
    "    print(\"Merhaba\")"
   ]
  },
  {
   "cell_type": "markdown",
   "id": "ffe850ad",
   "metadata": {},
   "source": [
    "Buradaki kod hata verdi çünkü bir **else** bloğu kendinden önce herhangi bir koşul bloğu yok ise çalışamaz ve Pythonda hataya yol açar.\n",
    "\n",
    "\n",
    "Bir sonraki derste diğer koşullu bloklarımıza bakacağız."
   ]
  },
  {
   "cell_type": "code",
   "execution_count": null,
   "id": "28a4fec5",
   "metadata": {},
   "outputs": [],
   "source": []
  }
 ],
 "metadata": {
  "kernelspec": {
   "display_name": "Python 3 (ipykernel)",
   "language": "python",
   "name": "python3"
  },
  "language_info": {
   "codemirror_mode": {
    "name": "ipython",
    "version": 3
   },
   "file_extension": ".py",
   "mimetype": "text/x-python",
   "name": "python",
   "nbconvert_exporter": "python",
   "pygments_lexer": "ipython3",
   "version": "3.9.5"
  }
 },
 "nbformat": 4,
 "nbformat_minor": 5
}
