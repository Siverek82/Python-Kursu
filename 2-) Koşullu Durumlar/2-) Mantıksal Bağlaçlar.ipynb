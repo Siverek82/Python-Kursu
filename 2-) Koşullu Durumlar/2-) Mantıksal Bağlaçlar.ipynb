{
 "cells": [
  {
   "cell_type": "markdown",
   "id": "d6627112",
   "metadata": {},
   "source": [
    "# Mantıksal Bağlaçlar\n",
    "\n",
    "Mantıksal bağlaçlar daha çok karşılaştırma işlemini kontrol ettiğimiz zamanlarda kullanılır. Bu konuda bunları öğrenmeye çalışacağız.\n",
    "\n",
    "### and Operatörü"
   ]
  },
  {
   "cell_type": "markdown",
   "id": "824a8c0c",
   "metadata": {},
   "source": [
    "Bu mantıksal bağlaç, bütün karşılaştırma işlemlerinin sonucunun True olmasına bakar. Bağlanan karşılaştırma işlemlerinin hepsinin kendi içinde sonucu True ise genel sonuç True , diğer durumlarda ise sonuç False çıkar. Kullanımı şu şekildedir."
   ]
  },
  {
   "cell_type": "code",
   "execution_count": 7,
   "id": "41c8b88f",
   "metadata": {},
   "outputs": [
    {
     "data": {
      "text/plain": [
       "True"
      ]
     },
     "execution_count": 7,
     "metadata": {},
     "output_type": "execute_result"
    }
   ],
   "source": [
    "1 < 2 "
   ]
  },
  {
   "cell_type": "code",
   "execution_count": 8,
   "id": "577af65f",
   "metadata": {},
   "outputs": [
    {
     "data": {
      "text/plain": [
       "True"
      ]
     },
     "execution_count": 8,
     "metadata": {},
     "output_type": "execute_result"
    }
   ],
   "source": [
    "'ahmet' == 'ahmet'"
   ]
  },
  {
   "cell_type": "code",
   "execution_count": 9,
   "id": "d99fe40e",
   "metadata": {},
   "outputs": [
    {
     "data": {
      "text/plain": [
       "True"
      ]
     },
     "execution_count": 9,
     "metadata": {},
     "output_type": "execute_result"
    }
   ],
   "source": [
    "1 < 2 and 'ahmet' == 'ahmet'"
   ]
  },
  {
   "cell_type": "code",
   "execution_count": 12,
   "id": "10618bbb",
   "metadata": {},
   "outputs": [
    {
     "data": {
      "text/plain": [
       "False"
      ]
     },
     "execution_count": 12,
     "metadata": {},
     "output_type": "execute_result"
    }
   ],
   "source": [
    "1<2 and 'murat'=='murat' and 4.55>5\n",
    "#bir tane dahi işlem hatalı olursa genel sonucumuz false çıkıyor"
   ]
  },
  {
   "cell_type": "markdown",
   "id": "61f7173d",
   "metadata": {},
   "source": [
    "### or Operatörü\n",
    "Bu mantıksal bağlaç, bütün karşılaştırma işlemlerinin sonuçlarından **en az birinin True** olmasına bakar. Bağlanan karşılaştırma işlemlerinin **en az birinin True** olmasında genel sonuç **True** , diğer durumlarda ise sonuç **False** çıkar. Kullanımı şu şekildedir."
   ]
  },
  {
   "cell_type": "code",
   "execution_count": 15,
   "id": "9b9e093c",
   "metadata": {},
   "outputs": [
    {
     "data": {
      "text/plain": [
       "True"
      ]
     },
     "execution_count": 15,
     "metadata": {},
     "output_type": "execute_result"
    }
   ],
   "source": [
    "1<2 or 'murat'=='murat' or 4.55>5\n",
    "# bir işlem dahi True çıksa genel sonuç True çıkıyor"
   ]
  },
  {
   "cell_type": "code",
   "execution_count": 20,
   "id": "41a81f17",
   "metadata": {},
   "outputs": [
    {
     "data": {
      "text/plain": [
       "False"
      ]
     },
     "execution_count": 20,
     "metadata": {},
     "output_type": "execute_result"
    }
   ],
   "source": [
    "1 > 2 or 'ahmet' < 'adem' or 4.55 > 5 \n",
    "# ancak hepsi hatalı olacak ki False sonucunu versin "
   ]
  },
  {
   "cell_type": "markdown",
   "id": "b5b77446",
   "metadata": {},
   "source": [
    "### not operatörü\n",
    "\n",
    "*not*  operatörü aslında bir mantıksal bağlaç değildir. Bu operatör sadece bir mantıksal değeri veya karşılaştırma işlemininin tam tersi sonuca çevirir. Yani, not operatörü **True** olan bir sonucu **False** , **False** olan bir sonucu **True** sonucuna çevirir. Kullanımı şu şekildedir."
   ]
  },
  {
   "cell_type": "code",
   "execution_count": 22,
   "id": "734e8d4c",
   "metadata": {},
   "outputs": [
    {
     "data": {
      "text/plain": [
       "True"
      ]
     },
     "execution_count": 22,
     "metadata": {},
     "output_type": "execute_result"
    }
   ],
   "source": [
    "2 == 2 "
   ]
  },
  {
   "cell_type": "code",
   "execution_count": 24,
   "id": "96f66efc",
   "metadata": {},
   "outputs": [
    {
     "data": {
      "text/plain": [
       "False"
      ]
     },
     "execution_count": 24,
     "metadata": {},
     "output_type": "execute_result"
    }
   ],
   "source": [
    "# ama not eklersek\n",
    "not 2 == 2\n",
    "# False değerini veriyor"
   ]
  },
  {
   "cell_type": "markdown",
   "id": "5de912c3",
   "metadata": {},
   "source": [
    "### Operatörleri Beraber Kullanma\n",
    "\n",
    "Burada gördüğümüz 3 operatörü beraber kullanmak karmaşıklığa yol açacağı için, *parantez* kullanabiliriz. "
   ]
  },
  {
   "cell_type": "code",
   "execution_count": 27,
   "id": "fe1ff7c4",
   "metadata": {},
   "outputs": [
    {
     "data": {
      "text/plain": [
       "True"
      ]
     },
     "execution_count": 27,
     "metadata": {},
     "output_type": "execute_result"
    }
   ],
   "source": [
    "not (2.14 > 3.49 or ( 2 != 2 and \"Murat\" == \"Murat\"))\n",
    "# murat murata eşit true ama 2 eşit değil 2 ye folse o yüzdeen 2. parantezin içi false\n",
    "#2.14 büyük 3.49 false ikinci parantez false genel sonuç fales\n",
    "# ama not kullanıldığı için true"
   ]
  },
  {
   "cell_type": "code",
   "execution_count": 26,
   "id": "df32243d",
   "metadata": {},
   "outputs": [
    {
     "data": {
      "text/plain": [
       "True"
      ]
     },
     "execution_count": 26,
     "metadata": {},
     "output_type": "execute_result"
    }
   ],
   "source": [
    "\"Araba\" < \"Zula\" and ( \"Bebek\" < \"Çoçuk\" or (not 14 ))"
   ]
  },
  {
   "cell_type": "code",
   "execution_count": null,
   "id": "297672c1",
   "metadata": {},
   "outputs": [],
   "source": []
  },
  {
   "cell_type": "code",
   "execution_count": null,
   "id": "4dcd9247",
   "metadata": {},
   "outputs": [],
   "source": []
  }
 ],
 "metadata": {
  "kernelspec": {
   "display_name": "Python 3",
   "language": "python",
   "name": "python3"
  },
  "language_info": {
   "codemirror_mode": {
    "name": "ipython",
    "version": 3
   },
   "file_extension": ".py",
   "mimetype": "text/x-python",
   "name": "python",
   "nbconvert_exporter": "python",
   "pygments_lexer": "ipython3",
   "version": "3.8.8"
  }
 },
 "nbformat": 4,
 "nbformat_minor": 5
}
